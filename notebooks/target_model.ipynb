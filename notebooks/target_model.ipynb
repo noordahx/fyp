{
 "cells": [
  {
   "cell_type": "code",
   "execution_count": null,
   "metadata": {},
   "outputs": [
    {
     "name": "stdout",
     "output_type": "stream",
     "text": [
      "Using device: cuda\n"
     ]
    }
   ],
   "source": [
    "import os\n",
    "import torch\n",
    "import torchvision\n",
    "import torch.nn as nn\n",
    "import torch.nn.functional as F\n",
    "from torch.optim import Adam, AdamW\n",
    "from torch.utils.data import DataLoader, Subset\n",
    "import torchvision.transforms as transforms\n",
    "from tqdm import tqdm\n",
    "import pandas as pd\n",
    "import numpy as np\n",
    "import importlib\n",
    "\n",
    "device = torch.device('cuda' if torch.cuda.is_available() else 'cpu')\n",
    "print('Using device:', device)\n",
    "\n",
    "torch.backends.cudnn.benchmark = True\n",
    "# torch.cuda.set_per_process_memory_fraction(0.7)\n",
    "torch.cuda.empty_cache()"
   ]
  },
  {
   "cell_type": "code",
   "execution_count": 16,
   "metadata": {},
   "outputs": [
    {
     "name": "stdout",
     "output_type": "stream",
     "text": [
      "Files already downloaded and verified\n",
      "mapped classes to ids: {'airplane': 0, 'automobile': 1, 'bird': 2, 'cat': 3, 'deer': 4, 'dog': 5, 'frog': 6, 'horse': 7, 'ship': 8, 'truck': 9}\n"
     ]
    }
   ],
   "source": [
    "DSET_CLASS = torchvision.datasets.CIFAR10\n",
    "NUM_CLASSES = 10\n",
    "\n",
    "transform = transforms.Compose(\n",
    "    [\n",
    "        transforms.Resize((32, 32)),\n",
    "        transforms.ToTensor(),\n",
    "        transforms.Normalize((0.5, 0.5, 0.5), (0.5, 0.5, 0.5)),\n",
    "    ]\n",
    ")\n",
    "\n",
    "testset = DSET_CLASS(root='./data', train=False, download=True, transform=transform)\n",
    "testloader = DataLoader(testset, batch_size=512, shuffle=False, num_workers=2)\n",
    "\n",
    "# define dataset for attack model that shadow models will generate\n",
    "print(\"mapped classes to ids:\", testset.class_to_idx)\n"
   ]
  },
  {
   "cell_type": "code",
   "execution_count": 17,
   "metadata": {},
   "outputs": [],
   "source": [
    "# Training multiple shadow models\n",
    "model_architecture = importlib.import_module(\"torchvision.models\")\n",
    "model_class = getattr(model_architecture, \"resnet18\")\n",
    "criterion = nn.CrossEntropyLoss()\n",
    "\n",
    "# Train Target Model\n",
    "target_model = model_class(num_classes=NUM_CLASSES)\n",
    "target_model.fc = nn.Linear(in_features=target_model.fc.in_features, out_features=NUM_CLASSES, bias=True)\n",
    "target_model = target_model.to(device)\n",
    "optimizer = AdamW(target_model.parameters(), lr=0.001, weight_decay=0.00001)\n",
    "\n",
    "target_train_indices = np.random.choice(len(testset), 7500, replace=False)\n",
    "target_eval_indices = np.setdiff1d(np.arange(len(testset)), target_train_indices)\n"
   ]
  },
  {
   "cell_type": "code",
   "execution_count": 18,
   "metadata": {},
   "outputs": [],
   "source": [
    "os.makedirs(\"./models\", exist_ok=True)\n",
    "pd.DataFrame(target_train_indices, columns=[\"index\"]).to_csv(\n",
    "    \"./models/target_train_indices.csv\", index=False\n",
    ")\n",
    "\n",
    "subset_tgt_train = Subset(testset, target_train_indices)\n",
    "subset_tgt_eval = Subset(testset, target_eval_indices)\n",
    "\n",
    "subset_tgt_train_loader = DataLoader(subset_tgt_train, batch_size=256, shuffle=True, num_workers=2)\n",
    "subset_tgt_eval_loader = DataLoader(subset_tgt_eval, batch_size=512, shuffle=False, num_workers=2)\n",
    "\n",
    "run_name = f\"target_model_resnet18_cifar10\""
   ]
  },
  {
   "cell_type": "code",
   "execution_count": 20,
   "metadata": {},
   "outputs": [],
   "source": [
    "class EarlyStopPatience(nn.Module):\n",
    "    def __init__(self, patience=10):\n",
    "        super(EarlyStopPatience, self).__init__()\n",
    "        self.patience = patience\n",
    "        self.counter = 0\n",
    "        self.best_loss = None\n",
    "\n",
    "    def __call__(self, loss):\n",
    "        if self.best_loss is None:\n",
    "            self.best_loss = loss\n",
    "        elif loss > self.best_loss:\n",
    "            self.counter += 1\n",
    "            if self.counter >= self.patience:\n",
    "                return True\n",
    "        else:\n",
    "            self.best_loss = loss\n",
    "            self.counter = 0\n",
    "        return False"
   ]
  },
  {
   "cell_type": "code",
   "execution_count": 24,
   "metadata": {},
   "outputs": [
    {
     "name": "stdout",
     "output_type": "stream",
     "text": [
      "Epoch 1/10, Train Loss: 0.2831, Train Acc: 0.8957, Valid Loss: 2.2701, Valid Acc: 0.4932\n",
      "Saved model with valid acc: 0.4932 -> ./models/target_model_resnet18_cifar10.pth\n",
      "Epoch 2/10, Train Loss: 0.2389, Train Acc: 0.9175, Valid Loss: 1.9965, Valid Acc: 0.5288\n",
      "Saved model with valid acc: 0.5288 -> ./models/target_model_resnet18_cifar10.pth\n",
      "Epoch 3/10, Train Loss: 0.1683, Train Acc: 0.9428, Valid Loss: 2.3758, Valid Acc: 0.5196\n",
      "Epoch 4/10, Train Loss: 0.1614, Train Acc: 0.9451, Valid Loss: 2.4788, Valid Acc: 0.4940\n",
      "Epoch 5/10, Train Loss: 0.1611, Train Acc: 0.9444, Valid Loss: 2.4311, Valid Acc: 0.5056\n",
      "Epoch 6/10, Train Loss: 0.1982, Train Acc: 0.9307, Valid Loss: 2.2953, Valid Acc: 0.5152\n",
      "Epoch 7/10, Train Loss: 0.1456, Train Acc: 0.9529, Valid Loss: 2.2763, Valid Acc: 0.5356\n",
      "Saved model with valid acc: 0.5356 -> ./models/target_model_resnet18_cifar10.pth\n",
      "Epoch 8/10, Train Loss: 0.1330, Train Acc: 0.9564, Valid Loss: 2.1839, Valid Acc: 0.5412\n",
      "Saved model with valid acc: 0.5412 -> ./models/target_model_resnet18_cifar10.pth\n",
      "Epoch 9/10, Train Loss: 0.0862, Train Acc: 0.9731, Valid Loss: 2.3271, Valid Acc: 0.5204\n",
      "Epoch 10/10, Train Loss: 0.0641, Train Acc: 0.9797, Valid Loss: 2.4184, Valid Acc: 0.5304\n",
      "Loading best model...\n",
      "Best valid acc: 0.5412\n",
      "Best valid loss: 1.9965\n"
     ]
    },
    {
     "name": "stderr",
     "output_type": "stream",
     "text": [
      "/tmp/ipykernel_40341/453827565.py:59: FutureWarning: You are using `torch.load` with `weights_only=False` (the current default value), which uses the default pickle module implicitly. It is possible to construct malicious pickle data which will execute arbitrary code during unpickling (See https://github.com/pytorch/pytorch/blob/main/SECURITY.md#untrusted-models for more details). In a future release, the default value for `weights_only` will be flipped to `True`. This limits the functions that could be executed during unpickling. Arbitrary objects will no longer be allowed to be loaded via this mode unless they are explicitly allowlisted by the user via `torch.serialization.add_safe_globals`. We recommend you start setting `weights_only=True` for any use case where you don't have full control of the loaded file. Please open an issue on GitHub for any issues related to this experimental feature.\n",
      "  target_model.load_state_dict(torch.load(f\"{SAVE_PATH}/{run_name}.pth\"))\n"
     ]
    },
    {
     "data": {
      "text/plain": [
       "<All keys matched successfully>"
      ]
     },
     "execution_count": 24,
     "metadata": {},
     "output_type": "execute_result"
    }
   ],
   "source": [
    "early_stop_acc1 = EarlyStopPatience(patience=10)\n",
    "best_valid_acc = 0\n",
    "best_valid_loss = 10\n",
    "EPOCHS = 10\n",
    "SAVE_PATH = \"./models\"\n",
    "\n",
    "if not os.path.exists(SAVE_PATH):\n",
    "    os.makedirs(SAVE_PATH)\n",
    "\n",
    "for epoch in range(EPOCHS):\n",
    "    target_model.train()\n",
    "    train_loss = 0\n",
    "    train_acc = 0\n",
    "    for i, (inputs, labels) in enumerate(subset_tgt_train_loader):\n",
    "        inputs, labels = inputs.to(device), labels.to(device)\n",
    "        optimizer.zero_grad()\n",
    "        outputs = target_model(inputs)\n",
    "        loss = criterion(outputs, labels)\n",
    "        loss.backward()\n",
    "        optimizer.step()\n",
    "        train_loss += loss.item()\n",
    "        train_acc += (outputs.argmax(1) == labels).sum().item()\n",
    "\n",
    "    train_loss /= len(subset_tgt_train_loader)\n",
    "    train_acc /= len(subset_tgt_train_loader.dataset)\n",
    "\n",
    "    target_model.eval()\n",
    "    valid_loss = 0\n",
    "    valid_acc = 0\n",
    "    with torch.no_grad():\n",
    "        for i, (inputs, labels) in enumerate(subset_tgt_eval_loader):\n",
    "            inputs, labels = inputs.to(device), labels.to(device)\n",
    "            outputs = target_model(inputs)\n",
    "            loss = criterion(outputs, labels)\n",
    "            valid_loss += loss.item()\n",
    "            valid_acc += (outputs.argmax(1) == labels).sum().item()\n",
    "\n",
    "    valid_loss /= len(subset_tgt_eval_loader)\n",
    "    valid_acc /= len(subset_tgt_eval_loader.dataset)\n",
    "\n",
    "    print(f\"Epoch {epoch+1}/{EPOCHS}, Train Loss: {train_loss:.4f}, Train Acc: {train_acc:.4f}, Valid Loss: {valid_loss:.4f}, Valid Acc: {valid_acc:.4f}\")\n",
    "\n",
    "    if valid_acc > best_valid_acc:\n",
    "        best_valid_acc = valid_acc\n",
    "        torch.save(target_model.state_dict(), f\"{SAVE_PATH}/{run_name}.pth\")\n",
    "        print(f\"Saved model with valid acc: {valid_acc:.4f} -> {SAVE_PATH}/{run_name}.pth\")\n",
    "\n",
    "    if valid_loss < best_valid_loss:\n",
    "        best_valid_loss = valid_loss\n",
    "\n",
    "    if early_stop_acc1(valid_acc):\n",
    "        print(\"Early stopping\")\n",
    "        break\n",
    "\n",
    "print(\"Loading best model...\")\n",
    "print(f\"Best valid acc: {best_valid_acc:.4f}\")\n",
    "print(f\"Best valid loss: {best_valid_loss:.4f}\")\n",
    "\n",
    "target_model.load_state_dict(torch.load(f\"{SAVE_PATH}/{run_name}.pth\"))\n",
    "\n"
   ]
  },
  {
   "cell_type": "code",
   "execution_count": null,
   "metadata": {},
   "outputs": [],
   "source": []
  }
 ],
 "metadata": {
  "kernelspec": {
   "display_name": ".venv",
   "language": "python",
   "name": "python3"
  },
  "language_info": {
   "codemirror_mode": {
    "name": "ipython",
    "version": 3
   },
   "file_extension": ".py",
   "mimetype": "text/x-python",
   "name": "python",
   "nbconvert_exporter": "python",
   "pygments_lexer": "ipython3",
   "version": "3.12.3"
  }
 },
 "nbformat": 4,
 "nbformat_minor": 2
}
