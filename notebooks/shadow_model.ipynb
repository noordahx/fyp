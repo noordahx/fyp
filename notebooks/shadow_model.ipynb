{
 "cells": [
  {
   "cell_type": "code",
   "execution_count": 1,
   "metadata": {},
   "outputs": [
    {
     "name": "stdout",
     "output_type": "stream",
     "text": [
      "Using device: cuda\n"
     ]
    }
   ],
   "source": [
    "import os\n",
    "import torch\n",
    "import torchvision\n",
    "import torch.nn as nn\n",
    "import torch.nn.functional as F\n",
    "from torch.optim import Adam, AdamW\n",
    "from torch.utils.data import DataLoader, Subset\n",
    "import torchvision.transforms as transforms\n",
    "from tqdm import tqdm\n",
    "import pandas as pd\n",
    "import numpy as np\n",
    "import importlib\n",
    "\n",
    "device = torch.device('cuda' if torch.cuda.is_available() else 'cpu')\n",
    "print('Using device:', device)\n",
    "\n",
    "torch.backends.cudnn.benchmark = True\n",
    "# torch.cuda.set_per_process_memory_fraction(0.7)\n",
    "torch.cuda.empty_cache()"
   ]
  },
  {
   "cell_type": "code",
   "execution_count": 2,
   "metadata": {},
   "outputs": [
    {
     "name": "stdout",
     "output_type": "stream",
     "text": [
      "Files already downloaded and verified\n",
      "mapped classes to ids: {'airplane': 0, 'automobile': 1, 'bird': 2, 'cat': 3, 'deer': 4, 'dog': 5, 'frog': 6, 'horse': 7, 'ship': 8, 'truck': 9}\n"
     ]
    }
   ],
   "source": [
    "DSET_CLASS = torchvision.datasets.CIFAR10\n",
    "NUM_CLASSES = 10\n",
    "\n",
    "transform = transforms.Compose(\n",
    "    [\n",
    "        transforms.Resize((32, 32)),\n",
    "        transforms.ToTensor(),\n",
    "        transforms.Normalize((0.5, 0.5, 0.5), (0.5, 0.5, 0.5)),\n",
    "    ]\n",
    ")\n",
    "\n",
    "testset = DSET_CLASS(root='./data', train=False, download=True, transform=transform)\n",
    "testloader = DataLoader(testset, batch_size=512, shuffle=False, num_workers=2)\n",
    "\n",
    "# define dataset for attack model that shadow models will generate\n",
    "print(\"mapped classes to ids:\", testset.class_to_idx)\n"
   ]
  },
  {
   "cell_type": "code",
   "execution_count": 3,
   "metadata": {},
   "outputs": [],
   "source": [
    "# Training multiple shadow models\n",
    "model_architecture = importlib.import_module(\"torchvision.models\")\n",
    "model_class = getattr(model_architecture, \"resnet18\")\n",
    "criterion = nn.CrossEntropyLoss()\n",
    "\n",
    "# Train Target Model\n",
    "target_model = model_class(num_classes=NUM_CLASSES)\n",
    "target_model.fc = nn.Linear(in_features=target_model.fc.in_features, out_features=NUM_CLASSES, bias=True)\n",
    "target_model = target_model.to(device)\n",
    "optimizer = AdamW(target_model.parameters(), lr=0.001, weight_decay=0.00001)\n",
    "\n",
    "target_train_indices = np.random.choice(len(testset), 5000, replace=False)\n",
    "target_eval_indices = np.setdiff1d(np.arange(len(testset)), target_train_indices)\n"
   ]
  },
  {
   "cell_type": "code",
   "execution_count": 4,
   "metadata": {},
   "outputs": [],
   "source": [
    "os.makedirs(\"./models\", exist_ok=True)\n",
    "pd.DataFrame(target_train_indices, columns=[\"index\"]).to_csv(\n",
    "    \"./models/target_train_indices.csv\", index=False\n",
    ")\n",
    "\n",
    "subset_tgt_train = Subset(testset, target_train_indices)\n",
    "subset_tgt_eval = Subset(testset, target_eval_indices)\n",
    "\n",
    "subset_tgt_train_loader = DataLoader(subset_tgt_train, batch_size=256, shuffle=True, num_workers=2)\n",
    "subset_tgt_eval_loader = DataLoader(subset_tgt_eval, batch_size=512, shuffle=False, num_workers=2)\n",
    "\n",
    "run_name = f\"target_model_resnet18_cifar10\""
   ]
  },
  {
   "cell_type": "code",
   "execution_count": 5,
   "metadata": {},
   "outputs": [],
   "source": [
    "class EarlyStopPatience(nn.Module):\n",
    "    def __init__(self, patience=10):\n",
    "        super(EarlyStopPatience, self).__init__()\n",
    "        self.patience = patience\n",
    "        self.counter = 0\n",
    "        self.best_loss = None\n",
    "\n",
    "    def __call__(self, loss):\n",
    "        if self.best_loss is None:\n",
    "            self.best_loss = loss\n",
    "        elif loss > self.best_loss:\n",
    "            self.counter += 1\n",
    "            if self.counter >= self.patience:\n",
    "                return True\n",
    "        else:\n",
    "            self.best_loss = loss\n",
    "            self.counter = 0\n",
    "        return False"
   ]
  },
  {
   "cell_type": "code",
   "execution_count": null,
   "metadata": {},
   "outputs": [
    {
     "name": "stdout",
     "output_type": "stream",
     "text": [
      "Epoch 1/100, Train Loss: 0.6424, Train Acc: 0.7858, Valid Loss: 1.5764, Valid Acc: 0.4788\n",
      "Saved model with valid acc: 0.4788 -> ./models/shadow_model_0_resnet18_cifar10.pth\n",
      "Epoch 2/100, Train Loss: 0.6419, Train Acc: 0.7892, Valid Loss: 1.5723, Valid Acc: 0.4846\n",
      "Saved model with valid acc: 0.4846 -> ./models/shadow_model_0_resnet18_cifar10.pth\n",
      "Epoch 3/100, Train Loss: 0.6443, Train Acc: 0.7838, Valid Loss: 1.5747, Valid Acc: 0.4836\n",
      "Epoch 4/100, Train Loss: 0.6432, Train Acc: 0.7860, Valid Loss: 1.5755, Valid Acc: 0.4838\n",
      "Epoch 5/100, Train Loss: 0.6407, Train Acc: 0.7852, Valid Loss: 1.5733, Valid Acc: 0.4834\n",
      "Epoch 6/100, Train Loss: 0.6410, Train Acc: 0.7866, Valid Loss: 1.5768, Valid Acc: 0.4832\n",
      "Epoch 7/100, Train Loss: 0.6465, Train Acc: 0.7848, Valid Loss: 1.5747, Valid Acc: 0.4818\n",
      "Epoch 8/100, Train Loss: 0.6472, Train Acc: 0.7852, Valid Loss: 1.5722, Valid Acc: 0.4834\n",
      "Epoch 9/100, Train Loss: 0.6439, Train Acc: 0.7860, Valid Loss: 1.5749, Valid Acc: 0.4836\n",
      "Epoch 10/100, Train Loss: 0.6445, Train Acc: 0.7858, Valid Loss: 1.5752, Valid Acc: 0.4822\n",
      "Epoch 11/100, Train Loss: 0.6433, Train Acc: 0.7852, Valid Loss: 1.5745, Valid Acc: 0.4836\n",
      "Early stopping\n",
      "Loading best model...\n",
      "Best valid acc: 0.4846\n",
      "Best valid loss: 1.5722\n"
     ]
    },
    {
     "name": "stderr",
     "output_type": "stream",
     "text": [
      "/tmp/ipykernel_108496/3042342292.py:62: FutureWarning: You are using `torch.load` with `weights_only=False` (the current default value), which uses the default pickle module implicitly. It is possible to construct malicious pickle data which will execute arbitrary code during unpickling (See https://github.com/pytorch/pytorch/blob/main/SECURITY.md#untrusted-models for more details). In a future release, the default value for `weights_only` will be flipped to `True`. This limits the functions that could be executed during unpickling. Arbitrary objects will no longer be allowed to be loaded via this mode unless they are explicitly allowlisted by the user via `torch.serialization.add_safe_globals`. We recommend you start setting `weights_only=True` for any use case where you don't have full control of the loaded file. Please open an issue on GitHub for any issues related to this experimental feature.\n",
      "  target_model.load_state_dict(torch.load(f\"{SAVE_PATH}/{run_name}.pth\"))\n"
     ]
    },
    {
     "data": {
      "text/plain": [
       "<All keys matched successfully>"
      ]
     },
     "execution_count": 8,
     "metadata": {},
     "output_type": "execute_result"
    }
   ],
   "source": [
    "EPOCHS = 100\n",
    "SAVE_PATH = \"./models\"\n",
    "\n",
    "\n",
    "early_stop_acc1 = EarlyStopPatience(patience=10)\n",
    "best_valid_acc = 0\n",
    "best_valid_loss = 10\n",
    "\n",
    "\n",
    "if not os.path.exists(SAVE_PATH):\n",
    "    os.makedirs(SAVE_PATH)\n",
    "\n",
    "for epoch in range(EPOCHS):\n",
    "    target_model.train()\n",
    "    train_loss = 0\n",
    "    train_acc = 0\n",
    "    for i, (inputs, labels) in enumerate(subset_tgt_train_loader):\n",
    "        inputs, labels = inputs.to(device), labels.to(device)\n",
    "        optimizer.zero_grad()\n",
    "        outputs = target_model(inputs)\n",
    "        loss = criterion(outputs, labels)\n",
    "        loss.backward()\n",
    "        optimizer.step()\n",
    "        train_loss += loss.item()\n",
    "        train_acc += (outputs.argmax(1) == labels).sum().item()\n",
    "\n",
    "    train_loss /= len(subset_tgt_train_loader)\n",
    "    train_acc /= len(subset_tgt_train_loader.dataset)\n",
    "\n",
    "    target_model.eval()\n",
    "    valid_loss = 0\n",
    "    valid_acc = 0\n",
    "    with torch.no_grad():\n",
    "        for i, (inputs, labels) in enumerate(subset_tgt_eval_loader):\n",
    "            inputs, labels = inputs.to(device), labels.to(device)\n",
    "            outputs = target_model(inputs)\n",
    "            loss = criterion(outputs, labels)\n",
    "            valid_loss += loss.item()\n",
    "            valid_acc += (outputs.argmax(1) == labels).sum().item()\n",
    "\n",
    "    valid_loss /= len(subset_tgt_eval_loader)\n",
    "    valid_acc /= len(subset_tgt_eval_loader.dataset)\n",
    "\n",
    "    print(f\"Epoch {epoch+1}/{EPOCHS}, Train Loss: {train_loss:.4f}, Train Acc: {train_acc:.4f}, Valid Loss: {valid_loss:.4f}, Valid Acc: {valid_acc:.4f}\")\n",
    "\n",
    "    if valid_acc > best_valid_acc:\n",
    "        best_valid_acc = valid_acc\n",
    "        torch.save(target_model.state_dict(), f\"{SAVE_PATH}/{run_name}.pth\")\n",
    "        print(f\"Saved model with valid acc: {valid_acc:.4f} -> {SAVE_PATH}/{run_name}.pth\")\n",
    "\n",
    "    if valid_loss < best_valid_loss:\n",
    "        best_valid_loss = valid_loss\n",
    "\n",
    "    if early_stop_acc1(valid_acc):\n",
    "        print(\"Early stopping\")\n",
    "        break\n",
    "\n",
    "print(\"Loading best model...\")\n",
    "print(f\"Best valid acc: {best_valid_acc:.4f}\")\n",
    "print(f\"Best valid loss: {best_valid_loss:.4f}\")\n",
    "\n",
    "target_model.load_state_dict(torch.load(f\"{SAVE_PATH}/{run_name}.pth\"))\n",
    "\n"
   ]
  },
  {
   "cell_type": "code",
   "execution_count": null,
   "metadata": {},
   "outputs": [],
   "source": []
  },
  {
   "cell_type": "code",
   "execution_count": null,
   "metadata": {},
   "outputs": [],
   "source": []
  },
  {
   "cell_type": "code",
   "execution_count": null,
   "metadata": {},
   "outputs": [],
   "source": []
  },
  {
   "cell_type": "code",
   "execution_count": null,
   "metadata": {},
   "outputs": [],
   "source": []
  },
  {
   "cell_type": "code",
   "execution_count": null,
   "metadata": {},
   "outputs": [],
   "source": []
  },
  {
   "cell_type": "code",
   "execution_count": null,
   "metadata": {},
   "outputs": [],
   "source": []
  },
  {
   "cell_type": "code",
   "execution_count": null,
   "metadata": {},
   "outputs": [
    {
     "name": "stdout",
     "output_type": "stream",
     "text": [
      "Files already downloaded and verified\n"
     ]
    },
    {
     "name": "stderr",
     "output_type": "stream",
     "text": [
      "  0%|          | 0/64 [00:00<?, ?it/s]/home/nurda/repos/fyp/.venv/lib/python3.12/site-packages/torchvision/models/_utils.py:208: UserWarning: The parameter 'pretrained' is deprecated since 0.13 and may be removed in the future, please use 'weights' instead.\n",
      "  warnings.warn(\n",
      "/home/nurda/repos/fyp/.venv/lib/python3.12/site-packages/torchvision/models/_utils.py:223: UserWarning: Arguments other than a weight enum or `None` for 'weights' are deprecated since 0.13 and may be removed in the future. The current behavior is equivalent to passing `weights=None`.\n",
      "  warnings.warn(msg)\n"
     ]
    },
    {
     "name": "stdout",
     "output_type": "stream",
     "text": [
      "Training shadow model 0/64\n",
      "Epoch 1/100, Train Loss: 2.1316, Train Acc: 0.2624, Valid Loss: 2.2360, Valid Acc: 0.1644\n",
      "Saved model with valid acc: 0.1644 -> ./models/shadow_model_0_resnet18_cifar10_loss_2.2789_acc_0.2100.pth\n",
      "Epoch 2/100, Train Loss: 1.4706, Train Acc: 0.4704, Valid Loss: 2.4899, Valid Acc: 0.1764\n",
      "Saved model with valid acc: 0.1764 -> ./models/shadow_model_0_resnet18_cifar10_loss_2.2789_acc_0.2100.pth\n",
      "Epoch 3/100, Train Loss: 0.9563, Train Acc: 0.6680, Valid Loss: 2.6195, Valid Acc: 0.2428\n",
      "Saved model with valid acc: 0.2428 -> ./models/shadow_model_0_resnet18_cifar10_loss_2.2789_acc_0.2100.pth\n",
      "Epoch 4/100, Train Loss: 0.5151, Train Acc: 0.8332, Valid Loss: 2.5874, Valid Acc: 0.3072\n",
      "Saved model with valid acc: 0.3072 -> ./models/shadow_model_0_resnet18_cifar10_loss_2.2789_acc_0.2100.pth\n",
      "Epoch 5/100, Train Loss: 0.2232, Train Acc: 0.9344, Valid Loss: 2.4533, Valid Acc: 0.3928\n",
      "Saved model with valid acc: 0.3928 -> ./models/shadow_model_0_resnet18_cifar10_loss_2.2789_acc_0.2100.pth\n",
      "Epoch 6/100, Train Loss: 0.1729, Train Acc: 0.9448, Valid Loss: 2.5006, Valid Acc: 0.3976\n",
      "Saved model with valid acc: 0.3976 -> ./models/shadow_model_0_resnet18_cifar10_loss_2.2789_acc_0.2100.pth\n",
      "Epoch 7/100, Train Loss: 0.1795, Train Acc: 0.9460, Valid Loss: 2.8257, Valid Acc: 0.3912\n",
      "Epoch 8/100, Train Loss: 0.2072, Train Acc: 0.9380, Valid Loss: 2.8972, Valid Acc: 0.3928\n",
      "Epoch 9/100, Train Loss: 0.1926, Train Acc: 0.9376, Valid Loss: 3.1228, Valid Acc: 0.3864\n",
      "Epoch 10/100, Train Loss: 0.1301, Train Acc: 0.9592, Valid Loss: 2.8712, Valid Acc: 0.3904\n",
      "Epoch 11/100, Train Loss: 0.0792, Train Acc: 0.9780, Valid Loss: 2.7023, Valid Acc: 0.4248\n"
     ]
    },
    {
     "name": "stderr",
     "output_type": "stream",
     "text": [
      "  2%|▏         | 1/64 [00:25<27:10, 25.88s/it]"
     ]
    },
    {
     "name": "stdout",
     "output_type": "stream",
     "text": [
      "Saved model with valid acc: 0.4248 -> ./models/shadow_model_0_resnet18_cifar10_loss_2.2789_acc_0.2100.pth\n",
      "Early stopping\n",
      "Training shadow model 1/64\n",
      "Epoch 1/100, Train Loss: 2.1141, Train Acc: 0.2644, Valid Loss: 2.4008, Valid Acc: 0.1092\n",
      "Saved model with valid acc: 0.1092 -> ./models/shadow_model_1_resnet18_cifar10_loss_2.2360_acc_0.4248.pth\n",
      "Epoch 2/100, Train Loss: 1.4704, Train Acc: 0.4888, Valid Loss: 2.7168, Valid Acc: 0.1292\n",
      "Saved model with valid acc: 0.1292 -> ./models/shadow_model_1_resnet18_cifar10_loss_2.2360_acc_0.4248.pth\n",
      "Epoch 3/100, Train Loss: 0.8988, Train Acc: 0.6896, Valid Loss: 2.8582, Valid Acc: 0.2020\n",
      "Saved model with valid acc: 0.2020 -> ./models/shadow_model_1_resnet18_cifar10_loss_2.2360_acc_0.4248.pth\n",
      "Epoch 4/100, Train Loss: 0.4477, Train Acc: 0.8544, Valid Loss: 2.4643, Valid Acc: 0.2996\n",
      "Saved model with valid acc: 0.2996 -> ./models/shadow_model_1_resnet18_cifar10_loss_2.2360_acc_0.4248.pth\n",
      "Epoch 5/100, Train Loss: 0.2032, Train Acc: 0.9436, Valid Loss: 2.6900, Valid Acc: 0.3604\n",
      "Saved model with valid acc: 0.3604 -> ./models/shadow_model_1_resnet18_cifar10_loss_2.2360_acc_0.4248.pth\n",
      "Epoch 6/100, Train Loss: 0.1226, Train Acc: 0.9704, Valid Loss: 2.7008, Valid Acc: 0.3908\n",
      "Saved model with valid acc: 0.3908 -> ./models/shadow_model_1_resnet18_cifar10_loss_2.2360_acc_0.4248.pth\n",
      "Epoch 7/100, Train Loss: 0.1242, Train Acc: 0.9612, Valid Loss: 3.5138, Valid Acc: 0.3644\n",
      "Epoch 8/100, Train Loss: 0.1764, Train Acc: 0.9420, Valid Loss: 2.8675, Valid Acc: 0.4040\n",
      "Saved model with valid acc: 0.4040 -> ./models/shadow_model_1_resnet18_cifar10_loss_2.2360_acc_0.4248.pth\n",
      "Epoch 9/100, Train Loss: 0.2282, Train Acc: 0.9220, Valid Loss: 3.3451, Valid Acc: 0.3472\n",
      "Epoch 10/100, Train Loss: 0.2811, Train Acc: 0.9064, Valid Loss: 3.2503, Valid Acc: 0.3664\n"
     ]
    },
    {
     "name": "stderr",
     "output_type": "stream",
     "text": [
      "  3%|▎         | 2/64 [00:51<26:42, 25.84s/it]"
     ]
    },
    {
     "name": "stdout",
     "output_type": "stream",
     "text": [
      "Epoch 11/100, Train Loss: 0.2679, Train Acc: 0.9088, Valid Loss: 3.5441, Valid Acc: 0.3596\n",
      "Early stopping\n",
      "Training shadow model 2/64\n",
      "Epoch 1/100, Train Loss: 2.1187, Train Acc: 0.2644, Valid Loss: 2.3073, Valid Acc: 0.1360\n",
      "Saved model with valid acc: 0.1360 -> ./models/shadow_model_2_resnet18_cifar10_loss_2.4008_acc_0.4040.pth\n",
      "Epoch 2/100, Train Loss: 1.4977, Train Acc: 0.4716, Valid Loss: 2.3015, Valid Acc: 0.1912\n",
      "Saved model with valid acc: 0.1912 -> ./models/shadow_model_2_resnet18_cifar10_loss_2.4008_acc_0.4040.pth\n",
      "Epoch 3/100, Train Loss: 0.9148, Train Acc: 0.6892, Valid Loss: 2.4182, Valid Acc: 0.2528\n",
      "Saved model with valid acc: 0.2528 -> ./models/shadow_model_2_resnet18_cifar10_loss_2.4008_acc_0.4040.pth\n",
      "Epoch 4/100, Train Loss: 0.4158, Train Acc: 0.8808, Valid Loss: 2.5321, Valid Acc: 0.3172\n",
      "Saved model with valid acc: 0.3172 -> ./models/shadow_model_2_resnet18_cifar10_loss_2.4008_acc_0.4040.pth\n",
      "Epoch 5/100, Train Loss: 0.2199, Train Acc: 0.9372, Valid Loss: 2.4041, Valid Acc: 0.4080\n",
      "Saved model with valid acc: 0.4080 -> ./models/shadow_model_2_resnet18_cifar10_loss_2.4008_acc_0.4040.pth\n",
      "Epoch 6/100, Train Loss: 0.1867, Train Acc: 0.9396, Valid Loss: 2.7549, Valid Acc: 0.3884\n",
      "Epoch 7/100, Train Loss: 0.2136, Train Acc: 0.9288, Valid Loss: 2.9634, Valid Acc: 0.3928\n",
      "Epoch 8/100, Train Loss: 0.2266, Train Acc: 0.9272, Valid Loss: 3.3145, Valid Acc: 0.3444\n",
      "Epoch 9/100, Train Loss: 0.2247, Train Acc: 0.9216, Valid Loss: 2.8572, Valid Acc: 0.3840\n",
      "Epoch 10/100, Train Loss: 0.2175, Train Acc: 0.9292, Valid Loss: 2.8728, Valid Acc: 0.4024\n"
     ]
    },
    {
     "name": "stderr",
     "output_type": "stream",
     "text": [
      "  5%|▍         | 3/64 [01:15<25:11, 24.79s/it]"
     ]
    },
    {
     "name": "stdout",
     "output_type": "stream",
     "text": [
      "Epoch 11/100, Train Loss: 0.1766, Train Acc: 0.9424, Valid Loss: 2.7930, Valid Acc: 0.4004\n",
      "Early stopping\n",
      "Training shadow model 3/64\n",
      "Epoch 1/100, Train Loss: 2.1058, Train Acc: 0.2728, Valid Loss: 2.3256, Valid Acc: 0.1624\n",
      "Saved model with valid acc: 0.1624 -> ./models/shadow_model_3_resnet18_cifar10_loss_2.3015_acc_0.4080.pth\n",
      "Epoch 2/100, Train Loss: 1.4245, Train Acc: 0.5028, Valid Loss: 2.5246, Valid Acc: 0.1744\n",
      "Saved model with valid acc: 0.1744 -> ./models/shadow_model_3_resnet18_cifar10_loss_2.3015_acc_0.4080.pth\n",
      "Epoch 3/100, Train Loss: 0.9259, Train Acc: 0.6764, Valid Loss: 2.9363, Valid Acc: 0.2264\n",
      "Saved model with valid acc: 0.2264 -> ./models/shadow_model_3_resnet18_cifar10_loss_2.3015_acc_0.4080.pth\n",
      "Epoch 4/100, Train Loss: 0.4776, Train Acc: 0.8472, Valid Loss: 2.3045, Valid Acc: 0.3192\n",
      "Saved model with valid acc: 0.3192 -> ./models/shadow_model_3_resnet18_cifar10_loss_2.3015_acc_0.4080.pth\n",
      "Epoch 5/100, Train Loss: 0.2529, Train Acc: 0.9184, Valid Loss: 2.3415, Valid Acc: 0.3864\n",
      "Saved model with valid acc: 0.3864 -> ./models/shadow_model_3_resnet18_cifar10_loss_2.3015_acc_0.4080.pth\n",
      "Epoch 6/100, Train Loss: 0.1616, Train Acc: 0.9544, Valid Loss: 2.5334, Valid Acc: 0.3976\n",
      "Saved model with valid acc: 0.3976 -> ./models/shadow_model_3_resnet18_cifar10_loss_2.3015_acc_0.4080.pth\n",
      "Epoch 7/100, Train Loss: 0.1558, Train Acc: 0.9516, Valid Loss: 2.8848, Valid Acc: 0.3956\n",
      "Epoch 8/100, Train Loss: 0.1478, Train Acc: 0.9548, Valid Loss: 2.8043, Valid Acc: 0.4060\n",
      "Saved model with valid acc: 0.4060 -> ./models/shadow_model_3_resnet18_cifar10_loss_2.3015_acc_0.4080.pth\n",
      "Epoch 9/100, Train Loss: 0.1741, Train Acc: 0.9400, Valid Loss: 2.8521, Valid Acc: 0.3996\n",
      "Epoch 10/100, Train Loss: 0.1729, Train Acc: 0.9392, Valid Loss: 3.1366, Valid Acc: 0.3892\n",
      "Epoch 11/100, Train Loss: 0.1728, Train Acc: 0.9376, Valid Loss: 2.9977, Valid Acc: 0.4064\n"
     ]
    },
    {
     "name": "stderr",
     "output_type": "stream",
     "text": [
      "  6%|▋         | 4/64 [01:40<25:00, 25.01s/it]"
     ]
    },
    {
     "name": "stdout",
     "output_type": "stream",
     "text": [
      "Saved model with valid acc: 0.4064 -> ./models/shadow_model_3_resnet18_cifar10_loss_2.3015_acc_0.4080.pth\n",
      "Early stopping\n",
      "Training shadow model 4/64\n",
      "Epoch 1/100, Train Loss: 2.1578, Train Acc: 0.2504, Valid Loss: 2.2530, Valid Acc: 0.1560\n",
      "Saved model with valid acc: 0.1560 -> ./models/shadow_model_4_resnet18_cifar10_loss_2.3045_acc_0.4064.pth\n",
      "Epoch 2/100, Train Loss: 1.4687, Train Acc: 0.4928, Valid Loss: 2.3381, Valid Acc: 0.1804\n",
      "Saved model with valid acc: 0.1804 -> ./models/shadow_model_4_resnet18_cifar10_loss_2.3045_acc_0.4064.pth\n",
      "Epoch 3/100, Train Loss: 0.9814, Train Acc: 0.6616, Valid Loss: 2.2356, Valid Acc: 0.2692\n",
      "Saved model with valid acc: 0.2692 -> ./models/shadow_model_4_resnet18_cifar10_loss_2.3045_acc_0.4064.pth\n",
      "Epoch 4/100, Train Loss: 0.5522, Train Acc: 0.8212, Valid Loss: 2.1196, Valid Acc: 0.3612\n",
      "Saved model with valid acc: 0.3612 -> ./models/shadow_model_4_resnet18_cifar10_loss_2.3045_acc_0.4064.pth\n",
      "Epoch 5/100, Train Loss: 0.2751, Train Acc: 0.9204, Valid Loss: 2.4280, Valid Acc: 0.3756\n",
      "Saved model with valid acc: 0.3756 -> ./models/shadow_model_4_resnet18_cifar10_loss_2.3045_acc_0.4064.pth\n",
      "Epoch 6/100, Train Loss: 0.1573, Train Acc: 0.9584, Valid Loss: 2.5156, Valid Acc: 0.4124\n",
      "Saved model with valid acc: 0.4124 -> ./models/shadow_model_4_resnet18_cifar10_loss_2.3045_acc_0.4064.pth\n",
      "Epoch 7/100, Train Loss: 0.1027, Train Acc: 0.9688, Valid Loss: 2.8459, Valid Acc: 0.4092\n",
      "Epoch 8/100, Train Loss: 0.1120, Train Acc: 0.9684, Valid Loss: 3.2197, Valid Acc: 0.3736\n",
      "Epoch 9/100, Train Loss: 0.1292, Train Acc: 0.9548, Valid Loss: 2.9380, Valid Acc: 0.3956\n",
      "Epoch 10/100, Train Loss: 0.1907, Train Acc: 0.9384, Valid Loss: 2.9900, Valid Acc: 0.3980\n"
     ]
    },
    {
     "name": "stderr",
     "output_type": "stream",
     "text": [
      "  8%|▊         | 5/64 [02:07<25:16, 25.70s/it]"
     ]
    },
    {
     "name": "stdout",
     "output_type": "stream",
     "text": [
      "Epoch 11/100, Train Loss: 0.1844, Train Acc: 0.9380, Valid Loss: 3.1864, Valid Acc: 0.3932\n",
      "Early stopping\n",
      "Training shadow model 5/64\n",
      "Epoch 1/100, Train Loss: 2.1538, Train Acc: 0.2420, Valid Loss: 2.3279, Valid Acc: 0.1488\n",
      "Saved model with valid acc: 0.1488 -> ./models/shadow_model_5_resnet18_cifar10_loss_2.1196_acc_0.4124.pth\n",
      "Epoch 2/100, Train Loss: 1.4446, Train Acc: 0.4852, Valid Loss: 2.4549, Valid Acc: 0.2008\n",
      "Saved model with valid acc: 0.2008 -> ./models/shadow_model_5_resnet18_cifar10_loss_2.1196_acc_0.4124.pth\n",
      "Epoch 3/100, Train Loss: 0.8662, Train Acc: 0.7128, Valid Loss: 2.5815, Valid Acc: 0.2336\n",
      "Saved model with valid acc: 0.2336 -> ./models/shadow_model_5_resnet18_cifar10_loss_2.1196_acc_0.4124.pth\n",
      "Epoch 4/100, Train Loss: 0.4328, Train Acc: 0.8588, Valid Loss: 2.1923, Valid Acc: 0.3512\n",
      "Saved model with valid acc: 0.3512 -> ./models/shadow_model_5_resnet18_cifar10_loss_2.1196_acc_0.4124.pth\n",
      "Epoch 5/100, Train Loss: 0.2373, Train Acc: 0.9300, Valid Loss: 2.4236, Valid Acc: 0.3720\n",
      "Saved model with valid acc: 0.3720 -> ./models/shadow_model_5_resnet18_cifar10_loss_2.1196_acc_0.4124.pth\n",
      "Epoch 6/100, Train Loss: 0.1956, Train Acc: 0.9352, Valid Loss: 2.7003, Valid Acc: 0.3812\n",
      "Saved model with valid acc: 0.3812 -> ./models/shadow_model_5_resnet18_cifar10_loss_2.1196_acc_0.4124.pth\n",
      "Epoch 7/100, Train Loss: 0.1984, Train Acc: 0.9380, Valid Loss: 2.4741, Valid Acc: 0.3948\n",
      "Saved model with valid acc: 0.3948 -> ./models/shadow_model_5_resnet18_cifar10_loss_2.1196_acc_0.4124.pth\n",
      "Epoch 8/100, Train Loss: 0.1838, Train Acc: 0.9396, Valid Loss: 2.8595, Valid Acc: 0.3876\n",
      "Epoch 9/100, Train Loss: 0.1782, Train Acc: 0.9404, Valid Loss: 2.7462, Valid Acc: 0.3856\n",
      "Epoch 10/100, Train Loss: 0.1713, Train Acc: 0.9432, Valid Loss: 2.8523, Valid Acc: 0.3884\n",
      "Epoch 11/100, Train Loss: 0.1429, Train Acc: 0.9488, Valid Loss: 2.7527, Valid Acc: 0.4236\n"
     ]
    },
    {
     "name": "stderr",
     "output_type": "stream",
     "text": [
      "  9%|▉         | 6/64 [02:32<24:41, 25.54s/it]"
     ]
    },
    {
     "name": "stdout",
     "output_type": "stream",
     "text": [
      "Saved model with valid acc: 0.4236 -> ./models/shadow_model_5_resnet18_cifar10_loss_2.1196_acc_0.4124.pth\n",
      "Early stopping\n",
      "Training shadow model 6/64\n",
      "Epoch 1/100, Train Loss: 2.1334, Train Acc: 0.2444, Valid Loss: 2.2804, Valid Acc: 0.1508\n",
      "Saved model with valid acc: 0.1508 -> ./models/shadow_model_6_resnet18_cifar10_loss_2.1923_acc_0.4236.pth\n",
      "Epoch 2/100, Train Loss: 1.4864, Train Acc: 0.4892, Valid Loss: 2.3954, Valid Acc: 0.2024\n",
      "Saved model with valid acc: 0.2024 -> ./models/shadow_model_6_resnet18_cifar10_loss_2.1923_acc_0.4236.pth\n",
      "Epoch 3/100, Train Loss: 0.9801, Train Acc: 0.6712, Valid Loss: 2.6261, Valid Acc: 0.2432\n",
      "Saved model with valid acc: 0.2432 -> ./models/shadow_model_6_resnet18_cifar10_loss_2.1923_acc_0.4236.pth\n",
      "Epoch 4/100, Train Loss: 0.5066, Train Acc: 0.8416, Valid Loss: 2.4477, Valid Acc: 0.3036\n",
      "Saved model with valid acc: 0.3036 -> ./models/shadow_model_6_resnet18_cifar10_loss_2.1923_acc_0.4236.pth\n",
      "Epoch 5/100, Train Loss: 0.2941, Train Acc: 0.9040, Valid Loss: 2.6422, Valid Acc: 0.3472\n",
      "Saved model with valid acc: 0.3472 -> ./models/shadow_model_6_resnet18_cifar10_loss_2.1923_acc_0.4236.pth\n",
      "Epoch 6/100, Train Loss: 0.2128, Train Acc: 0.9320, Valid Loss: 2.5736, Valid Acc: 0.3968\n",
      "Saved model with valid acc: 0.3968 -> ./models/shadow_model_6_resnet18_cifar10_loss_2.1923_acc_0.4236.pth\n",
      "Epoch 7/100, Train Loss: 0.1750, Train Acc: 0.9396, Valid Loss: 2.8560, Valid Acc: 0.3928\n",
      "Epoch 8/100, Train Loss: 0.2190, Train Acc: 0.9288, Valid Loss: 2.6905, Valid Acc: 0.3860\n",
      "Epoch 9/100, Train Loss: 0.1770, Train Acc: 0.9408, Valid Loss: 2.8571, Valid Acc: 0.4092\n",
      "Saved model with valid acc: 0.4092 -> ./models/shadow_model_6_resnet18_cifar10_loss_2.1923_acc_0.4236.pth\n",
      "Epoch 10/100, Train Loss: 0.2000, Train Acc: 0.9348, Valid Loss: 3.0544, Valid Acc: 0.4168\n",
      "Saved model with valid acc: 0.4168 -> ./models/shadow_model_6_resnet18_cifar10_loss_2.1923_acc_0.4236.pth\n"
     ]
    },
    {
     "name": "stderr",
     "output_type": "stream",
     "text": [
      " 11%|█         | 7/64 [03:02<25:25, 26.77s/it]"
     ]
    },
    {
     "name": "stdout",
     "output_type": "stream",
     "text": [
      "Epoch 11/100, Train Loss: 0.2041, Train Acc: 0.9280, Valid Loss: 2.9154, Valid Acc: 0.3952\n",
      "Early stopping\n",
      "Training shadow model 7/64\n",
      "Epoch 1/100, Train Loss: 2.0764, Train Acc: 0.2616, Valid Loss: 2.2129, Valid Acc: 0.1792\n",
      "Saved model with valid acc: 0.1792 -> ./models/shadow_model_7_resnet18_cifar10_loss_2.2804_acc_0.4168.pth\n",
      "Epoch 2/100, Train Loss: 1.3819, Train Acc: 0.5068, Valid Loss: 2.5060, Valid Acc: 0.2024\n",
      "Saved model with valid acc: 0.2024 -> ./models/shadow_model_7_resnet18_cifar10_loss_2.2804_acc_0.4168.pth\n",
      "Epoch 3/100, Train Loss: 0.8919, Train Acc: 0.6920, Valid Loss: 2.6253, Valid Acc: 0.2372\n",
      "Saved model with valid acc: 0.2372 -> ./models/shadow_model_7_resnet18_cifar10_loss_2.2804_acc_0.4168.pth\n",
      "Epoch 4/100, Train Loss: 0.4353, Train Acc: 0.8664, Valid Loss: 2.6339, Valid Acc: 0.2996\n",
      "Saved model with valid acc: 0.2996 -> ./models/shadow_model_7_resnet18_cifar10_loss_2.2804_acc_0.4168.pth\n",
      "Epoch 5/100, Train Loss: 0.2485, Train Acc: 0.9200, Valid Loss: 2.8046, Valid Acc: 0.3340\n",
      "Saved model with valid acc: 0.3340 -> ./models/shadow_model_7_resnet18_cifar10_loss_2.2804_acc_0.4168.pth\n",
      "Epoch 6/100, Train Loss: 0.2500, Train Acc: 0.9168, Valid Loss: 2.5935, Valid Acc: 0.3868\n",
      "Saved model with valid acc: 0.3868 -> ./models/shadow_model_7_resnet18_cifar10_loss_2.2804_acc_0.4168.pth\n",
      "Epoch 7/100, Train Loss: 0.2324, Train Acc: 0.9248, Valid Loss: 3.0949, Valid Acc: 0.3760\n",
      "Epoch 8/100, Train Loss: 0.2147, Train Acc: 0.9252, Valid Loss: 2.9082, Valid Acc: 0.3908\n",
      "Saved model with valid acc: 0.3908 -> ./models/shadow_model_7_resnet18_cifar10_loss_2.2804_acc_0.4168.pth\n",
      "Epoch 9/100, Train Loss: 0.1587, Train Acc: 0.9464, Valid Loss: 2.9182, Valid Acc: 0.3888\n",
      "Epoch 10/100, Train Loss: 0.1412, Train Acc: 0.9512, Valid Loss: 2.7655, Valid Acc: 0.4072\n",
      "Saved model with valid acc: 0.4072 -> ./models/shadow_model_7_resnet18_cifar10_loss_2.2804_acc_0.4168.pth\n",
      "Epoch 11/100, Train Loss: 0.0970, Train Acc: 0.9644, Valid Loss: 2.7552, Valid Acc: 0.4212\n"
     ]
    },
    {
     "name": "stderr",
     "output_type": "stream",
     "text": [
      " 12%|█▎        | 8/64 [03:28<24:59, 26.77s/it]"
     ]
    },
    {
     "name": "stdout",
     "output_type": "stream",
     "text": [
      "Saved model with valid acc: 0.4212 -> ./models/shadow_model_7_resnet18_cifar10_loss_2.2804_acc_0.4168.pth\n",
      "Early stopping\n",
      "Training shadow model 8/64\n",
      "Epoch 1/100, Train Loss: 2.0942, Train Acc: 0.2688, Valid Loss: 2.3999, Valid Acc: 0.0960\n",
      "Saved model with valid acc: 0.0960 -> ./models/shadow_model_8_resnet18_cifar10_loss_2.2129_acc_0.4212.pth\n",
      "Epoch 2/100, Train Loss: 1.4375, Train Acc: 0.4892, Valid Loss: 2.6287, Valid Acc: 0.1600\n",
      "Saved model with valid acc: 0.1600 -> ./models/shadow_model_8_resnet18_cifar10_loss_2.2129_acc_0.4212.pth\n",
      "Epoch 3/100, Train Loss: 0.9617, Train Acc: 0.6624, Valid Loss: 2.5317, Valid Acc: 0.2384\n",
      "Saved model with valid acc: 0.2384 -> ./models/shadow_model_8_resnet18_cifar10_loss_2.2129_acc_0.4212.pth\n",
      "Epoch 4/100, Train Loss: 0.5197, Train Acc: 0.8276, Valid Loss: 2.6750, Valid Acc: 0.3104\n",
      "Saved model with valid acc: 0.3104 -> ./models/shadow_model_8_resnet18_cifar10_loss_2.2129_acc_0.4212.pth\n",
      "Epoch 5/100, Train Loss: 0.2751, Train Acc: 0.9160, Valid Loss: 2.6277, Valid Acc: 0.3492\n",
      "Saved model with valid acc: 0.3492 -> ./models/shadow_model_8_resnet18_cifar10_loss_2.2129_acc_0.4212.pth\n",
      "Epoch 6/100, Train Loss: 0.1804, Train Acc: 0.9440, Valid Loss: 2.6467, Valid Acc: 0.3744\n",
      "Saved model with valid acc: 0.3744 -> ./models/shadow_model_8_resnet18_cifar10_loss_2.2129_acc_0.4212.pth\n",
      "Epoch 7/100, Train Loss: 0.1453, Train Acc: 0.9560, Valid Loss: 2.5914, Valid Acc: 0.4168\n",
      "Saved model with valid acc: 0.4168 -> ./models/shadow_model_8_resnet18_cifar10_loss_2.2129_acc_0.4212.pth\n",
      "Epoch 8/100, Train Loss: 0.1372, Train Acc: 0.9556, Valid Loss: 2.9029, Valid Acc: 0.3872\n",
      "Epoch 9/100, Train Loss: 0.1562, Train Acc: 0.9488, Valid Loss: 3.0877, Valid Acc: 0.3824\n",
      "Epoch 10/100, Train Loss: 0.1890, Train Acc: 0.9356, Valid Loss: 3.0104, Valid Acc: 0.3864\n"
     ]
    },
    {
     "name": "stderr",
     "output_type": "stream",
     "text": [
      " 14%|█▍        | 9/64 [03:51<23:15, 25.38s/it]"
     ]
    },
    {
     "name": "stdout",
     "output_type": "stream",
     "text": [
      "Epoch 11/100, Train Loss: 0.1477, Train Acc: 0.9500, Valid Loss: 3.0492, Valid Acc: 0.3952\n",
      "Early stopping\n",
      "Training shadow model 9/64\n",
      "Epoch 1/100, Train Loss: 2.1577, Train Acc: 0.2364, Valid Loss: 2.3436, Valid Acc: 0.1256\n",
      "Saved model with valid acc: 0.1256 -> ./models/shadow_model_9_resnet18_cifar10_loss_2.3999_acc_0.4168.pth\n",
      "Epoch 2/100, Train Loss: 1.4925, Train Acc: 0.4712, Valid Loss: 2.7719, Valid Acc: 0.1404\n",
      "Saved model with valid acc: 0.1404 -> ./models/shadow_model_9_resnet18_cifar10_loss_2.3999_acc_0.4168.pth\n",
      "Epoch 3/100, Train Loss: 0.9469, Train Acc: 0.6704, Valid Loss: 2.4060, Valid Acc: 0.2520\n",
      "Saved model with valid acc: 0.2520 -> ./models/shadow_model_9_resnet18_cifar10_loss_2.3999_acc_0.4168.pth\n",
      "Epoch 4/100, Train Loss: 0.5218, Train Acc: 0.8244, Valid Loss: 2.2874, Valid Acc: 0.3328\n",
      "Saved model with valid acc: 0.3328 -> ./models/shadow_model_9_resnet18_cifar10_loss_2.3999_acc_0.4168.pth\n",
      "Epoch 5/100, Train Loss: 0.2702, Train Acc: 0.9152, Valid Loss: 2.5240, Valid Acc: 0.3636\n",
      "Saved model with valid acc: 0.3636 -> ./models/shadow_model_9_resnet18_cifar10_loss_2.3999_acc_0.4168.pth\n",
      "Epoch 6/100, Train Loss: 0.1981, Train Acc: 0.9400, Valid Loss: 2.4275, Valid Acc: 0.3884\n",
      "Saved model with valid acc: 0.3884 -> ./models/shadow_model_9_resnet18_cifar10_loss_2.3999_acc_0.4168.pth\n",
      "Epoch 7/100, Train Loss: 0.1671, Train Acc: 0.9444, Valid Loss: 2.7849, Valid Acc: 0.3784\n",
      "Epoch 8/100, Train Loss: 0.1847, Train Acc: 0.9344, Valid Loss: 3.3530, Valid Acc: 0.3384\n",
      "Epoch 9/100, Train Loss: 0.2046, Train Acc: 0.9264, Valid Loss: 3.2265, Valid Acc: 0.3736\n",
      "Epoch 10/100, Train Loss: 0.2121, Train Acc: 0.9372, Valid Loss: 3.3118, Valid Acc: 0.3664\n"
     ]
    },
    {
     "name": "stderr",
     "output_type": "stream",
     "text": [
      " 16%|█▌        | 10/64 [04:17<23:05, 25.66s/it]"
     ]
    },
    {
     "name": "stdout",
     "output_type": "stream",
     "text": [
      "Epoch 11/100, Train Loss: 0.1670, Train Acc: 0.9456, Valid Loss: 3.0159, Valid Acc: 0.3832\n",
      "Early stopping\n",
      "Training shadow model 10/64\n",
      "Epoch 1/100, Train Loss: 2.1435, Train Acc: 0.2640, Valid Loss: 2.2604, Valid Acc: 0.1704\n",
      "Saved model with valid acc: 0.1704 -> ./models/shadow_model_10_resnet18_cifar10_loss_2.2874_acc_0.3884.pth\n",
      "Epoch 2/100, Train Loss: 1.4200, Train Acc: 0.4996, Valid Loss: 2.6549, Valid Acc: 0.1884\n",
      "Saved model with valid acc: 0.1884 -> ./models/shadow_model_10_resnet18_cifar10_loss_2.2874_acc_0.3884.pth\n",
      "Epoch 3/100, Train Loss: 0.9061, Train Acc: 0.6812, Valid Loss: 2.3894, Valid Acc: 0.2736\n",
      "Saved model with valid acc: 0.2736 -> ./models/shadow_model_10_resnet18_cifar10_loss_2.2874_acc_0.3884.pth\n",
      "Epoch 4/100, Train Loss: 0.4829, Train Acc: 0.8496, Valid Loss: 2.5068, Valid Acc: 0.3164\n",
      "Saved model with valid acc: 0.3164 -> ./models/shadow_model_10_resnet18_cifar10_loss_2.2874_acc_0.3884.pth\n",
      "Epoch 5/100, Train Loss: 0.2795, Train Acc: 0.9128, Valid Loss: 2.4354, Valid Acc: 0.3788\n",
      "Saved model with valid acc: 0.3788 -> ./models/shadow_model_10_resnet18_cifar10_loss_2.2874_acc_0.3884.pth\n",
      "Epoch 6/100, Train Loss: 0.1575, Train Acc: 0.9564, Valid Loss: 2.4289, Valid Acc: 0.4144\n",
      "Saved model with valid acc: 0.4144 -> ./models/shadow_model_10_resnet18_cifar10_loss_2.2874_acc_0.3884.pth\n",
      "Epoch 7/100, Train Loss: 0.1433, Train Acc: 0.9560, Valid Loss: 2.5886, Valid Acc: 0.4088\n",
      "Epoch 8/100, Train Loss: 0.1359, Train Acc: 0.9584, Valid Loss: 2.9901, Valid Acc: 0.3664\n",
      "Epoch 9/100, Train Loss: 0.1384, Train Acc: 0.9508, Valid Loss: 3.0751, Valid Acc: 0.3840\n",
      "Epoch 10/100, Train Loss: 0.1440, Train Acc: 0.9524, Valid Loss: 3.1514, Valid Acc: 0.3820\n",
      "Epoch 11/100, Train Loss: 0.1291, Train Acc: 0.9556, Valid Loss: 3.0376, Valid Acc: 0.4244\n"
     ]
    },
    {
     "name": "stderr",
     "output_type": "stream",
     "text": [
      " 17%|█▋        | 11/64 [04:47<23:46, 26.92s/it]"
     ]
    },
    {
     "name": "stdout",
     "output_type": "stream",
     "text": [
      "Saved model with valid acc: 0.4244 -> ./models/shadow_model_10_resnet18_cifar10_loss_2.2874_acc_0.3884.pth\n",
      "Early stopping\n",
      "Training shadow model 11/64\n",
      "Epoch 1/100, Train Loss: 2.0619, Train Acc: 0.2768, Valid Loss: 2.4513, Valid Acc: 0.1012\n",
      "Saved model with valid acc: 0.1012 -> ./models/shadow_model_11_resnet18_cifar10_loss_2.2604_acc_0.4244.pth\n",
      "Epoch 2/100, Train Loss: 1.4424, Train Acc: 0.4932, Valid Loss: 2.6582, Valid Acc: 0.1640\n",
      "Saved model with valid acc: 0.1640 -> ./models/shadow_model_11_resnet18_cifar10_loss_2.2604_acc_0.4244.pth\n",
      "Epoch 3/100, Train Loss: 0.8844, Train Acc: 0.6944, Valid Loss: 2.5911, Valid Acc: 0.2532\n",
      "Saved model with valid acc: 0.2532 -> ./models/shadow_model_11_resnet18_cifar10_loss_2.2604_acc_0.4244.pth\n",
      "Epoch 4/100, Train Loss: 0.4906, Train Acc: 0.8416, Valid Loss: 2.3170, Valid Acc: 0.3244\n",
      "Saved model with valid acc: 0.3244 -> ./models/shadow_model_11_resnet18_cifar10_loss_2.2604_acc_0.4244.pth\n",
      "Epoch 5/100, Train Loss: 0.2693, Train Acc: 0.9096, Valid Loss: 2.8284, Valid Acc: 0.3544\n",
      "Saved model with valid acc: 0.3544 -> ./models/shadow_model_11_resnet18_cifar10_loss_2.2604_acc_0.4244.pth\n",
      "Epoch 6/100, Train Loss: 0.1643, Train Acc: 0.9496, Valid Loss: 2.5896, Valid Acc: 0.4116\n",
      "Saved model with valid acc: 0.4116 -> ./models/shadow_model_11_resnet18_cifar10_loss_2.2604_acc_0.4244.pth\n",
      "Epoch 7/100, Train Loss: 0.1303, Train Acc: 0.9588, Valid Loss: 2.6805, Valid Acc: 0.4156\n",
      "Saved model with valid acc: 0.4156 -> ./models/shadow_model_11_resnet18_cifar10_loss_2.2604_acc_0.4244.pth\n",
      "Epoch 8/100, Train Loss: 0.1262, Train Acc: 0.9596, Valid Loss: 2.7595, Valid Acc: 0.4012\n",
      "Epoch 9/100, Train Loss: 0.1414, Train Acc: 0.9560, Valid Loss: 3.0539, Valid Acc: 0.4012\n",
      "Epoch 10/100, Train Loss: 0.1703, Train Acc: 0.9444, Valid Loss: 2.8900, Valid Acc: 0.3984\n"
     ]
    },
    {
     "name": "stderr",
     "output_type": "stream",
     "text": [
      " 19%|█▉        | 12/64 [05:14<23:29, 27.11s/it]"
     ]
    },
    {
     "name": "stdout",
     "output_type": "stream",
     "text": [
      "Epoch 11/100, Train Loss: 0.2097, Train Acc: 0.9292, Valid Loss: 3.0736, Valid Acc: 0.4120\n",
      "Early stopping\n",
      "Training shadow model 12/64\n",
      "Epoch 1/100, Train Loss: 2.0787, Train Acc: 0.2660, Valid Loss: 2.3538, Valid Acc: 0.1504\n",
      "Saved model with valid acc: 0.1504 -> ./models/shadow_model_12_resnet18_cifar10_loss_2.3170_acc_0.4156.pth\n",
      "Epoch 2/100, Train Loss: 1.4169, Train Acc: 0.5060, Valid Loss: 2.7468, Valid Acc: 0.1876\n",
      "Saved model with valid acc: 0.1876 -> ./models/shadow_model_12_resnet18_cifar10_loss_2.3170_acc_0.4156.pth\n",
      "Epoch 3/100, Train Loss: 0.9112, Train Acc: 0.6900, Valid Loss: 2.4932, Valid Acc: 0.2684\n",
      "Saved model with valid acc: 0.2684 -> ./models/shadow_model_12_resnet18_cifar10_loss_2.3170_acc_0.4156.pth\n",
      "Epoch 4/100, Train Loss: 0.4830, Train Acc: 0.8416, Valid Loss: 2.4399, Valid Acc: 0.3092\n",
      "Saved model with valid acc: 0.3092 -> ./models/shadow_model_12_resnet18_cifar10_loss_2.3170_acc_0.4156.pth\n",
      "Epoch 5/100, Train Loss: 0.2626, Train Acc: 0.9140, Valid Loss: 2.7217, Valid Acc: 0.3568\n",
      "Saved model with valid acc: 0.3568 -> ./models/shadow_model_12_resnet18_cifar10_loss_2.3170_acc_0.4156.pth\n",
      "Epoch 6/100, Train Loss: 0.1601, Train Acc: 0.9544, Valid Loss: 2.6768, Valid Acc: 0.3844\n",
      "Saved model with valid acc: 0.3844 -> ./models/shadow_model_12_resnet18_cifar10_loss_2.3170_acc_0.4156.pth\n",
      "Epoch 7/100, Train Loss: 0.1591, Train Acc: 0.9500, Valid Loss: 3.0010, Valid Acc: 0.4040\n",
      "Saved model with valid acc: 0.4040 -> ./models/shadow_model_12_resnet18_cifar10_loss_2.3170_acc_0.4156.pth\n",
      "Epoch 8/100, Train Loss: 0.1541, Train Acc: 0.9528, Valid Loss: 2.8086, Valid Acc: 0.4128\n",
      "Saved model with valid acc: 0.4128 -> ./models/shadow_model_12_resnet18_cifar10_loss_2.3170_acc_0.4156.pth\n",
      "Epoch 9/100, Train Loss: 0.1424, Train Acc: 0.9504, Valid Loss: 3.2241, Valid Acc: 0.3552\n",
      "Epoch 10/100, Train Loss: 0.2039, Train Acc: 0.9356, Valid Loss: 3.0909, Valid Acc: 0.3944\n"
     ]
    },
    {
     "name": "stderr",
     "output_type": "stream",
     "text": [
      " 20%|██        | 13/64 [05:41<22:52, 26.92s/it]"
     ]
    },
    {
     "name": "stdout",
     "output_type": "stream",
     "text": [
      "Epoch 11/100, Train Loss: 0.2104, Train Acc: 0.9224, Valid Loss: 3.4072, Valid Acc: 0.3808\n",
      "Early stopping\n",
      "Training shadow model 13/64\n",
      "Epoch 1/100, Train Loss: 2.0963, Train Acc: 0.2812, Valid Loss: 2.2637, Valid Acc: 0.1304\n",
      "Saved model with valid acc: 0.1304 -> ./models/shadow_model_13_resnet18_cifar10_loss_2.3538_acc_0.4128.pth\n",
      "Epoch 2/100, Train Loss: 1.4263, Train Acc: 0.5048, Valid Loss: 2.6591, Valid Acc: 0.1620\n",
      "Saved model with valid acc: 0.1620 -> ./models/shadow_model_13_resnet18_cifar10_loss_2.3538_acc_0.4128.pth\n",
      "Epoch 3/100, Train Loss: 0.9231, Train Acc: 0.6840, Valid Loss: 2.5273, Valid Acc: 0.2520\n",
      "Saved model with valid acc: 0.2520 -> ./models/shadow_model_13_resnet18_cifar10_loss_2.3538_acc_0.4128.pth\n",
      "Epoch 4/100, Train Loss: 0.4568, Train Acc: 0.8648, Valid Loss: 2.4593, Valid Acc: 0.3084\n",
      "Saved model with valid acc: 0.3084 -> ./models/shadow_model_13_resnet18_cifar10_loss_2.3538_acc_0.4128.pth\n",
      "Epoch 5/100, Train Loss: 0.2414, Train Acc: 0.9268, Valid Loss: 2.6773, Valid Acc: 0.3492\n",
      "Saved model with valid acc: 0.3492 -> ./models/shadow_model_13_resnet18_cifar10_loss_2.3538_acc_0.4128.pth\n",
      "Epoch 6/100, Train Loss: 0.1838, Train Acc: 0.9392, Valid Loss: 2.8283, Valid Acc: 0.3828\n",
      "Saved model with valid acc: 0.3828 -> ./models/shadow_model_13_resnet18_cifar10_loss_2.3538_acc_0.4128.pth\n",
      "Epoch 7/100, Train Loss: 0.1972, Train Acc: 0.9320, Valid Loss: 2.8327, Valid Acc: 0.3800\n",
      "Epoch 8/100, Train Loss: 0.1918, Train Acc: 0.9352, Valid Loss: 2.9262, Valid Acc: 0.3728\n",
      "Epoch 9/100, Train Loss: 0.2487, Train Acc: 0.9152, Valid Loss: 3.0191, Valid Acc: 0.3752\n",
      "Epoch 10/100, Train Loss: 0.2212, Train Acc: 0.9240, Valid Loss: 3.3227, Valid Acc: 0.3572\n",
      "Epoch 11/100, Train Loss: 0.1741, Train Acc: 0.9348, Valid Loss: 2.8438, Valid Acc: 0.4016\n"
     ]
    },
    {
     "name": "stderr",
     "output_type": "stream",
     "text": [
      " 22%|██▏       | 14/64 [06:11<23:11, 27.82s/it]"
     ]
    },
    {
     "name": "stdout",
     "output_type": "stream",
     "text": [
      "Saved model with valid acc: 0.4016 -> ./models/shadow_model_13_resnet18_cifar10_loss_2.3538_acc_0.4128.pth\n",
      "Early stopping\n",
      "Training shadow model 14/64\n",
      "Epoch 1/100, Train Loss: 2.1169, Train Acc: 0.2544, Valid Loss: 2.2231, Valid Acc: 0.1832\n",
      "Saved model with valid acc: 0.1832 -> ./models/shadow_model_14_resnet18_cifar10_loss_2.2637_acc_0.4016.pth\n",
      "Epoch 2/100, Train Loss: 1.4463, Train Acc: 0.4880, Valid Loss: 2.4074, Valid Acc: 0.1920\n",
      "Saved model with valid acc: 0.1920 -> ./models/shadow_model_14_resnet18_cifar10_loss_2.2637_acc_0.4016.pth\n",
      "Epoch 3/100, Train Loss: 0.8860, Train Acc: 0.6988, Valid Loss: 2.4219, Valid Acc: 0.2760\n",
      "Saved model with valid acc: 0.2760 -> ./models/shadow_model_14_resnet18_cifar10_loss_2.2637_acc_0.4016.pth\n",
      "Epoch 4/100, Train Loss: 0.4205, Train Acc: 0.8684, Valid Loss: 2.3981, Valid Acc: 0.3220\n",
      "Saved model with valid acc: 0.3220 -> ./models/shadow_model_14_resnet18_cifar10_loss_2.2637_acc_0.4016.pth\n",
      "Epoch 5/100, Train Loss: 0.2441, Train Acc: 0.9228, Valid Loss: 2.4940, Valid Acc: 0.3768\n",
      "Saved model with valid acc: 0.3768 -> ./models/shadow_model_14_resnet18_cifar10_loss_2.2637_acc_0.4016.pth\n",
      "Epoch 6/100, Train Loss: 0.1882, Train Acc: 0.9404, Valid Loss: 2.7528, Valid Acc: 0.3692\n",
      "Epoch 7/100, Train Loss: 0.2037, Train Acc: 0.9340, Valid Loss: 2.7170, Valid Acc: 0.4112\n",
      "Saved model with valid acc: 0.4112 -> ./models/shadow_model_14_resnet18_cifar10_loss_2.2637_acc_0.4016.pth\n",
      "Epoch 8/100, Train Loss: 0.1916, Train Acc: 0.9388, Valid Loss: 3.1482, Valid Acc: 0.3672\n",
      "Epoch 9/100, Train Loss: 0.2017, Train Acc: 0.9376, Valid Loss: 3.0835, Valid Acc: 0.3640\n",
      "Epoch 10/100, Train Loss: 0.1817, Train Acc: 0.9352, Valid Loss: 2.8940, Valid Acc: 0.4020\n"
     ]
    },
    {
     "name": "stderr",
     "output_type": "stream",
     "text": [
      " 23%|██▎       | 15/64 [06:39<22:44, 27.85s/it]"
     ]
    },
    {
     "name": "stdout",
     "output_type": "stream",
     "text": [
      "Epoch 11/100, Train Loss: 0.1574, Train Acc: 0.9444, Valid Loss: 2.9720, Valid Acc: 0.3956\n",
      "Early stopping\n",
      "Training shadow model 15/64\n",
      "Epoch 1/100, Train Loss: 2.1011, Train Acc: 0.2640, Valid Loss: 2.2684, Valid Acc: 0.1244\n",
      "Saved model with valid acc: 0.1244 -> ./models/shadow_model_15_resnet18_cifar10_loss_2.2231_acc_0.4112.pth\n",
      "Epoch 2/100, Train Loss: 1.5068, Train Acc: 0.4604, Valid Loss: 2.3741, Valid Acc: 0.1940\n",
      "Saved model with valid acc: 0.1940 -> ./models/shadow_model_15_resnet18_cifar10_loss_2.2231_acc_0.4112.pth\n",
      "Epoch 3/100, Train Loss: 0.9829, Train Acc: 0.6456, Valid Loss: 2.6793, Valid Acc: 0.2316\n",
      "Saved model with valid acc: 0.2316 -> ./models/shadow_model_15_resnet18_cifar10_loss_2.2231_acc_0.4112.pth\n",
      "Epoch 4/100, Train Loss: 0.5015, Train Acc: 0.8368, Valid Loss: 2.7173, Valid Acc: 0.2736\n",
      "Saved model with valid acc: 0.2736 -> ./models/shadow_model_15_resnet18_cifar10_loss_2.2231_acc_0.4112.pth\n",
      "Epoch 5/100, Train Loss: 0.2369, Train Acc: 0.9308, Valid Loss: 2.4251, Valid Acc: 0.3468\n",
      "Saved model with valid acc: 0.3468 -> ./models/shadow_model_15_resnet18_cifar10_loss_2.2231_acc_0.4112.pth\n",
      "Epoch 6/100, Train Loss: 0.1555, Train Acc: 0.9520, Valid Loss: 2.8307, Valid Acc: 0.3720\n",
      "Saved model with valid acc: 0.3720 -> ./models/shadow_model_15_resnet18_cifar10_loss_2.2231_acc_0.4112.pth\n",
      "Epoch 7/100, Train Loss: 0.1715, Train Acc: 0.9428, Valid Loss: 2.8454, Valid Acc: 0.3956\n",
      "Saved model with valid acc: 0.3956 -> ./models/shadow_model_15_resnet18_cifar10_loss_2.2231_acc_0.4112.pth\n",
      "Epoch 8/100, Train Loss: 0.1837, Train Acc: 0.9332, Valid Loss: 2.9233, Valid Acc: 0.3852\n",
      "Epoch 9/100, Train Loss: 0.2449, Train Acc: 0.9192, Valid Loss: 3.3045, Valid Acc: 0.3684\n",
      "Epoch 10/100, Train Loss: 0.2223, Train Acc: 0.9148, Valid Loss: 2.9889, Valid Acc: 0.4056\n",
      "Saved model with valid acc: 0.4056 -> ./models/shadow_model_15_resnet18_cifar10_loss_2.2231_acc_0.4112.pth\n"
     ]
    },
    {
     "name": "stderr",
     "output_type": "stream",
     "text": [
      " 25%|██▌       | 16/64 [07:05<21:59, 27.50s/it]"
     ]
    },
    {
     "name": "stdout",
     "output_type": "stream",
     "text": [
      "Epoch 11/100, Train Loss: 0.1959, Train Acc: 0.9344, Valid Loss: 2.8007, Valid Acc: 0.3972\n",
      "Early stopping\n",
      "Training shadow model 16/64\n",
      "Epoch 1/100, Train Loss: 2.1321, Train Acc: 0.2600, Valid Loss: 2.1762, Valid Acc: 0.2092\n",
      "Saved model with valid acc: 0.2092 -> ./models/shadow_model_16_resnet18_cifar10_loss_2.2684_acc_0.4056.pth\n",
      "Epoch 2/100, Train Loss: 1.4939, Train Acc: 0.4624, Valid Loss: 2.2466, Valid Acc: 0.2292\n",
      "Saved model with valid acc: 0.2292 -> ./models/shadow_model_16_resnet18_cifar10_loss_2.2684_acc_0.4056.pth\n",
      "Epoch 3/100, Train Loss: 0.9782, Train Acc: 0.6616, Valid Loss: 2.2258, Valid Acc: 0.2492\n",
      "Saved model with valid acc: 0.2492 -> ./models/shadow_model_16_resnet18_cifar10_loss_2.2684_acc_0.4056.pth\n",
      "Epoch 4/100, Train Loss: 0.4834, Train Acc: 0.8412, Valid Loss: 2.4535, Valid Acc: 0.3160\n",
      "Saved model with valid acc: 0.3160 -> ./models/shadow_model_16_resnet18_cifar10_loss_2.2684_acc_0.4056.pth\n",
      "Epoch 5/100, Train Loss: 0.2368, Train Acc: 0.9288, Valid Loss: 2.7491, Valid Acc: 0.3476\n",
      "Saved model with valid acc: 0.3476 -> ./models/shadow_model_16_resnet18_cifar10_loss_2.2684_acc_0.4056.pth\n",
      "Epoch 6/100, Train Loss: 0.1653, Train Acc: 0.9488, Valid Loss: 2.7695, Valid Acc: 0.3664\n",
      "Saved model with valid acc: 0.3664 -> ./models/shadow_model_16_resnet18_cifar10_loss_2.2684_acc_0.4056.pth\n",
      "Epoch 7/100, Train Loss: 0.1677, Train Acc: 0.9488, Valid Loss: 2.9014, Valid Acc: 0.3712\n",
      "Saved model with valid acc: 0.3712 -> ./models/shadow_model_16_resnet18_cifar10_loss_2.2684_acc_0.4056.pth\n",
      "Epoch 8/100, Train Loss: 0.2072, Train Acc: 0.9292, Valid Loss: 2.7763, Valid Acc: 0.3936\n",
      "Saved model with valid acc: 0.3936 -> ./models/shadow_model_16_resnet18_cifar10_loss_2.2684_acc_0.4056.pth\n",
      "Epoch 9/100, Train Loss: 0.2077, Train Acc: 0.9272, Valid Loss: 3.1068, Valid Acc: 0.3724\n",
      "Epoch 10/100, Train Loss: 0.2119, Train Acc: 0.9316, Valid Loss: 3.0925, Valid Acc: 0.3736\n"
     ]
    },
    {
     "name": "stderr",
     "output_type": "stream",
     "text": [
      " 27%|██▋       | 17/64 [07:34<21:46, 27.80s/it]"
     ]
    },
    {
     "name": "stdout",
     "output_type": "stream",
     "text": [
      "Epoch 11/100, Train Loss: 0.1729, Train Acc: 0.9384, Valid Loss: 3.2869, Valid Acc: 0.3612\n",
      "Early stopping\n",
      "Training shadow model 17/64\n",
      "Epoch 1/100, Train Loss: 2.0691, Train Acc: 0.2728, Valid Loss: 2.1857, Valid Acc: 0.2008\n",
      "Saved model with valid acc: 0.2008 -> ./models/shadow_model_17_resnet18_cifar10_loss_2.1762_acc_0.3936.pth\n",
      "Epoch 2/100, Train Loss: 1.4776, Train Acc: 0.4856, Valid Loss: 2.5144, Valid Acc: 0.1760\n",
      "Epoch 3/100, Train Loss: 1.0445, Train Acc: 0.6336, Valid Loss: 2.4518, Valid Acc: 0.2528\n",
      "Saved model with valid acc: 0.2528 -> ./models/shadow_model_17_resnet18_cifar10_loss_2.1762_acc_0.3936.pth\n",
      "Epoch 4/100, Train Loss: 0.6136, Train Acc: 0.7992, Valid Loss: 2.4631, Valid Acc: 0.2748\n",
      "Saved model with valid acc: 0.2748 -> ./models/shadow_model_17_resnet18_cifar10_loss_2.1762_acc_0.3936.pth\n",
      "Epoch 5/100, Train Loss: 0.2838, Train Acc: 0.9140, Valid Loss: 2.3230, Valid Acc: 0.3684\n",
      "Saved model with valid acc: 0.3684 -> ./models/shadow_model_17_resnet18_cifar10_loss_2.1762_acc_0.3936.pth\n",
      "Epoch 6/100, Train Loss: 0.1531, Train Acc: 0.9556, Valid Loss: 2.6266, Valid Acc: 0.3908\n",
      "Saved model with valid acc: 0.3908 -> ./models/shadow_model_17_resnet18_cifar10_loss_2.1762_acc_0.3936.pth\n",
      "Epoch 7/100, Train Loss: 0.1331, Train Acc: 0.9600, Valid Loss: 2.7861, Valid Acc: 0.3996\n",
      "Saved model with valid acc: 0.3996 -> ./models/shadow_model_17_resnet18_cifar10_loss_2.1762_acc_0.3936.pth\n",
      "Epoch 8/100, Train Loss: 0.1489, Train Acc: 0.9568, Valid Loss: 3.1906, Valid Acc: 0.3760\n",
      "Epoch 9/100, Train Loss: 0.1807, Train Acc: 0.9384, Valid Loss: 2.9688, Valid Acc: 0.3768\n",
      "Epoch 10/100, Train Loss: 0.1849, Train Acc: 0.9360, Valid Loss: 3.4890, Valid Acc: 0.3520\n",
      "Epoch 11/100, Train Loss: 0.1810, Train Acc: 0.9352, Valid Loss: 2.8254, Valid Acc: 0.3952\n",
      "Epoch 12/100, Train Loss: 0.1450, Train Acc: 0.9476, Valid Loss: 2.8688, Valid Acc: 0.4220\n"
     ]
    },
    {
     "name": "stderr",
     "output_type": "stream",
     "text": [
      " 28%|██▊       | 18/64 [08:04<21:56, 28.63s/it]"
     ]
    },
    {
     "name": "stdout",
     "output_type": "stream",
     "text": [
      "Saved model with valid acc: 0.4220 -> ./models/shadow_model_17_resnet18_cifar10_loss_2.1762_acc_0.3936.pth\n",
      "Early stopping\n",
      "Training shadow model 18/64\n",
      "Epoch 1/100, Train Loss: 2.0716, Train Acc: 0.2756, Valid Loss: 2.3502, Valid Acc: 0.1216\n",
      "Saved model with valid acc: 0.1216 -> ./models/shadow_model_18_resnet18_cifar10_loss_2.1857_acc_0.4220.pth\n",
      "Epoch 2/100, Train Loss: 1.4967, Train Acc: 0.4652, Valid Loss: 2.7891, Valid Acc: 0.1536\n",
      "Saved model with valid acc: 0.1536 -> ./models/shadow_model_18_resnet18_cifar10_loss_2.1857_acc_0.4220.pth\n",
      "Epoch 3/100, Train Loss: 0.9969, Train Acc: 0.6568, Valid Loss: 2.2740, Valid Acc: 0.2636\n",
      "Saved model with valid acc: 0.2636 -> ./models/shadow_model_18_resnet18_cifar10_loss_2.1857_acc_0.4220.pth\n",
      "Epoch 4/100, Train Loss: 0.5150, Train Acc: 0.8340, Valid Loss: 2.0333, Valid Acc: 0.3680\n",
      "Saved model with valid acc: 0.3680 -> ./models/shadow_model_18_resnet18_cifar10_loss_2.1857_acc_0.4220.pth\n",
      "Epoch 5/100, Train Loss: 0.2597, Train Acc: 0.9280, Valid Loss: 2.2734, Valid Acc: 0.3924\n",
      "Saved model with valid acc: 0.3924 -> ./models/shadow_model_18_resnet18_cifar10_loss_2.1857_acc_0.4220.pth\n",
      "Epoch 6/100, Train Loss: 0.1776, Train Acc: 0.9440, Valid Loss: 2.7306, Valid Acc: 0.3828\n",
      "Epoch 7/100, Train Loss: 0.2138, Train Acc: 0.9296, Valid Loss: 2.9339, Valid Acc: 0.3728\n",
      "Epoch 8/100, Train Loss: 0.2147, Train Acc: 0.9284, Valid Loss: 2.7236, Valid Acc: 0.4088\n",
      "Saved model with valid acc: 0.4088 -> ./models/shadow_model_18_resnet18_cifar10_loss_2.1857_acc_0.4220.pth\n",
      "Epoch 9/100, Train Loss: 0.2090, Train Acc: 0.9288, Valid Loss: 2.9206, Valid Acc: 0.3712\n",
      "Epoch 10/100, Train Loss: 0.1744, Train Acc: 0.9432, Valid Loss: 2.7380, Valid Acc: 0.4196\n",
      "Saved model with valid acc: 0.4196 -> ./models/shadow_model_18_resnet18_cifar10_loss_2.1857_acc_0.4220.pth\n"
     ]
    },
    {
     "name": "stderr",
     "output_type": "stream",
     "text": [
      " 30%|██▉       | 19/64 [08:31<21:03, 28.08s/it]"
     ]
    },
    {
     "name": "stdout",
     "output_type": "stream",
     "text": [
      "Epoch 11/100, Train Loss: 0.1334, Train Acc: 0.9568, Valid Loss: 2.7489, Valid Acc: 0.4184\n",
      "Early stopping\n",
      "Training shadow model 19/64\n",
      "Epoch 1/100, Train Loss: 2.1012, Train Acc: 0.2672, Valid Loss: 2.3092, Valid Acc: 0.1260\n",
      "Saved model with valid acc: 0.1260 -> ./models/shadow_model_19_resnet18_cifar10_loss_2.0333_acc_0.4196.pth\n",
      "Epoch 2/100, Train Loss: 1.4929, Train Acc: 0.4836, Valid Loss: 2.2903, Valid Acc: 0.1816\n",
      "Saved model with valid acc: 0.1816 -> ./models/shadow_model_19_resnet18_cifar10_loss_2.0333_acc_0.4196.pth\n",
      "Epoch 3/100, Train Loss: 0.9441, Train Acc: 0.6804, Valid Loss: 2.6332, Valid Acc: 0.2164\n",
      "Saved model with valid acc: 0.2164 -> ./models/shadow_model_19_resnet18_cifar10_loss_2.0333_acc_0.4196.pth\n",
      "Epoch 4/100, Train Loss: 0.5048, Train Acc: 0.8420, Valid Loss: 2.4071, Valid Acc: 0.2964\n",
      "Saved model with valid acc: 0.2964 -> ./models/shadow_model_19_resnet18_cifar10_loss_2.0333_acc_0.4196.pth\n",
      "Epoch 5/100, Train Loss: 0.2300, Train Acc: 0.9280, Valid Loss: 2.4009, Valid Acc: 0.3704\n",
      "Saved model with valid acc: 0.3704 -> ./models/shadow_model_19_resnet18_cifar10_loss_2.0333_acc_0.4196.pth\n",
      "Epoch 6/100, Train Loss: 0.1411, Train Acc: 0.9576, Valid Loss: 2.7257, Valid Acc: 0.3864\n",
      "Saved model with valid acc: 0.3864 -> ./models/shadow_model_19_resnet18_cifar10_loss_2.0333_acc_0.4196.pth\n",
      "Epoch 7/100, Train Loss: 0.1356, Train Acc: 0.9624, Valid Loss: 2.7748, Valid Acc: 0.4060\n",
      "Saved model with valid acc: 0.4060 -> ./models/shadow_model_19_resnet18_cifar10_loss_2.0333_acc_0.4196.pth\n",
      "Epoch 8/100, Train Loss: 0.1444, Train Acc: 0.9536, Valid Loss: 2.9675, Valid Acc: 0.3788\n",
      "Epoch 9/100, Train Loss: 0.2093, Train Acc: 0.9316, Valid Loss: 3.1404, Valid Acc: 0.3820\n",
      "Epoch 10/100, Train Loss: 0.2267, Train Acc: 0.9240, Valid Loss: 3.3664, Valid Acc: 0.3932\n"
     ]
    },
    {
     "name": "stderr",
     "output_type": "stream",
     "text": [
      " 31%|███▏      | 20/64 [08:59<20:28, 27.91s/it]"
     ]
    },
    {
     "name": "stdout",
     "output_type": "stream",
     "text": [
      "Epoch 11/100, Train Loss: 0.2220, Train Acc: 0.9336, Valid Loss: 3.2137, Valid Acc: 0.3780\n",
      "Early stopping\n",
      "Training shadow model 20/64\n",
      "Epoch 1/100, Train Loss: 2.0761, Train Acc: 0.2672, Valid Loss: 2.3524, Valid Acc: 0.1044\n",
      "Saved model with valid acc: 0.1044 -> ./models/shadow_model_20_resnet18_cifar10_loss_2.2903_acc_0.4060.pth\n",
      "Epoch 2/100, Train Loss: 1.4568, Train Acc: 0.4884, Valid Loss: 2.2375, Valid Acc: 0.2244\n",
      "Saved model with valid acc: 0.2244 -> ./models/shadow_model_20_resnet18_cifar10_loss_2.2903_acc_0.4060.pth\n",
      "Epoch 3/100, Train Loss: 0.9478, Train Acc: 0.6724, Valid Loss: 3.0102, Valid Acc: 0.2172\n",
      "Epoch 4/100, Train Loss: 0.5094, Train Acc: 0.8404, Valid Loss: 2.4904, Valid Acc: 0.3200\n",
      "Saved model with valid acc: 0.3200 -> ./models/shadow_model_20_resnet18_cifar10_loss_2.2903_acc_0.4060.pth\n",
      "Epoch 5/100, Train Loss: 0.2714, Train Acc: 0.9160, Valid Loss: 2.5120, Valid Acc: 0.3556\n",
      "Saved model with valid acc: 0.3556 -> ./models/shadow_model_20_resnet18_cifar10_loss_2.2903_acc_0.4060.pth\n",
      "Epoch 6/100, Train Loss: 0.2136, Train Acc: 0.9276, Valid Loss: 2.5205, Valid Acc: 0.3888\n",
      "Saved model with valid acc: 0.3888 -> ./models/shadow_model_20_resnet18_cifar10_loss_2.2903_acc_0.4060.pth\n",
      "Epoch 7/100, Train Loss: 0.2058, Train Acc: 0.9336, Valid Loss: 2.6591, Valid Acc: 0.3896\n",
      "Saved model with valid acc: 0.3896 -> ./models/shadow_model_20_resnet18_cifar10_loss_2.2903_acc_0.4060.pth\n",
      "Epoch 8/100, Train Loss: 0.1855, Train Acc: 0.9420, Valid Loss: 3.3673, Valid Acc: 0.3552\n",
      "Epoch 9/100, Train Loss: 0.2179, Train Acc: 0.9280, Valid Loss: 3.3400, Valid Acc: 0.3640\n",
      "Epoch 10/100, Train Loss: 0.2060, Train Acc: 0.9332, Valid Loss: 2.7878, Valid Acc: 0.3996\n",
      "Saved model with valid acc: 0.3996 -> ./models/shadow_model_20_resnet18_cifar10_loss_2.2903_acc_0.4060.pth\n"
     ]
    },
    {
     "name": "stderr",
     "output_type": "stream",
     "text": [
      " 33%|███▎      | 21/64 [09:26<19:58, 27.88s/it]"
     ]
    },
    {
     "name": "stdout",
     "output_type": "stream",
     "text": [
      "Epoch 11/100, Train Loss: 0.1538, Train Acc: 0.9524, Valid Loss: 3.0714, Valid Acc: 0.3780\n",
      "Early stopping\n",
      "Training shadow model 21/64\n",
      "Epoch 1/100, Train Loss: 2.0454, Train Acc: 0.2800, Valid Loss: 2.3084, Valid Acc: 0.1400\n",
      "Saved model with valid acc: 0.1400 -> ./models/shadow_model_21_resnet18_cifar10_loss_2.2375_acc_0.3996.pth\n",
      "Epoch 2/100, Train Loss: 1.3528, Train Acc: 0.5224, Valid Loss: 2.5422, Valid Acc: 0.2228\n",
      "Saved model with valid acc: 0.2228 -> ./models/shadow_model_21_resnet18_cifar10_loss_2.2375_acc_0.3996.pth\n",
      "Epoch 3/100, Train Loss: 0.8232, Train Acc: 0.7216, Valid Loss: 2.5113, Valid Acc: 0.2664\n",
      "Saved model with valid acc: 0.2664 -> ./models/shadow_model_21_resnet18_cifar10_loss_2.2375_acc_0.3996.pth\n",
      "Epoch 4/100, Train Loss: 0.4162, Train Acc: 0.8724, Valid Loss: 2.6582, Valid Acc: 0.2996\n",
      "Saved model with valid acc: 0.2996 -> ./models/shadow_model_21_resnet18_cifar10_loss_2.2375_acc_0.3996.pth\n",
      "Epoch 5/100, Train Loss: 0.2444, Train Acc: 0.9204, Valid Loss: 2.8543, Valid Acc: 0.3508\n",
      "Saved model with valid acc: 0.3508 -> ./models/shadow_model_21_resnet18_cifar10_loss_2.2375_acc_0.3996.pth\n",
      "Epoch 6/100, Train Loss: 0.1894, Train Acc: 0.9392, Valid Loss: 2.7051, Valid Acc: 0.3868\n",
      "Saved model with valid acc: 0.3868 -> ./models/shadow_model_21_resnet18_cifar10_loss_2.2375_acc_0.3996.pth\n",
      "Epoch 7/100, Train Loss: 0.1676, Train Acc: 0.9412, Valid Loss: 3.3571, Valid Acc: 0.3592\n",
      "Epoch 8/100, Train Loss: 0.1965, Train Acc: 0.9344, Valid Loss: 2.8807, Valid Acc: 0.3952\n",
      "Saved model with valid acc: 0.3952 -> ./models/shadow_model_21_resnet18_cifar10_loss_2.2375_acc_0.3996.pth\n",
      "Epoch 9/100, Train Loss: 0.1873, Train Acc: 0.9324, Valid Loss: 3.0857, Valid Acc: 0.3648\n",
      "Epoch 10/100, Train Loss: 0.1709, Train Acc: 0.9416, Valid Loss: 3.3692, Valid Acc: 0.3912\n",
      "Epoch 11/100, Train Loss: 0.1707, Train Acc: 0.9384, Valid Loss: 3.2086, Valid Acc: 0.3976\n"
     ]
    },
    {
     "name": "stderr",
     "output_type": "stream",
     "text": [
      " 34%|███▍      | 22/64 [09:53<19:19, 27.60s/it]"
     ]
    },
    {
     "name": "stdout",
     "output_type": "stream",
     "text": [
      "Saved model with valid acc: 0.3976 -> ./models/shadow_model_21_resnet18_cifar10_loss_2.2375_acc_0.3996.pth\n",
      "Early stopping\n",
      "Training shadow model 22/64\n",
      "Epoch 1/100, Train Loss: 2.1626, Train Acc: 0.2444, Valid Loss: 2.2865, Valid Acc: 0.1668\n",
      "Saved model with valid acc: 0.1668 -> ./models/shadow_model_22_resnet18_cifar10_loss_2.3084_acc_0.3976.pth\n",
      "Epoch 2/100, Train Loss: 1.4648, Train Acc: 0.4812, Valid Loss: 2.4107, Valid Acc: 0.1656\n",
      "Epoch 3/100, Train Loss: 0.9314, Train Acc: 0.6740, Valid Loss: 2.3214, Valid Acc: 0.2840\n",
      "Saved model with valid acc: 0.2840 -> ./models/shadow_model_22_resnet18_cifar10_loss_2.3084_acc_0.3976.pth\n",
      "Epoch 4/100, Train Loss: 0.4874, Train Acc: 0.8408, Valid Loss: 2.2855, Valid Acc: 0.3488\n",
      "Saved model with valid acc: 0.3488 -> ./models/shadow_model_22_resnet18_cifar10_loss_2.3084_acc_0.3976.pth\n",
      "Epoch 5/100, Train Loss: 0.2704, Train Acc: 0.9208, Valid Loss: 2.4492, Valid Acc: 0.3616\n",
      "Saved model with valid acc: 0.3616 -> ./models/shadow_model_22_resnet18_cifar10_loss_2.3084_acc_0.3976.pth\n",
      "Epoch 6/100, Train Loss: 0.1951, Train Acc: 0.9384, Valid Loss: 2.5599, Valid Acc: 0.4132\n",
      "Saved model with valid acc: 0.4132 -> ./models/shadow_model_22_resnet18_cifar10_loss_2.3084_acc_0.3976.pth\n",
      "Epoch 7/100, Train Loss: 0.1530, Train Acc: 0.9488, Valid Loss: 2.7878, Valid Acc: 0.3792\n",
      "Epoch 8/100, Train Loss: 0.1589, Train Acc: 0.9468, Valid Loss: 2.9765, Valid Acc: 0.3848\n",
      "Epoch 9/100, Train Loss: 0.1755, Train Acc: 0.9432, Valid Loss: 3.1154, Valid Acc: 0.3988\n",
      "Epoch 10/100, Train Loss: 0.1902, Train Acc: 0.9356, Valid Loss: 2.8783, Valid Acc: 0.4056\n",
      "Epoch 11/100, Train Loss: 0.1828, Train Acc: 0.9404, Valid Loss: 2.9641, Valid Acc: 0.3824\n"
     ]
    },
    {
     "name": "stderr",
     "output_type": "stream",
     "text": [
      " 36%|███▌      | 23/64 [10:23<19:20, 28.30s/it]"
     ]
    },
    {
     "name": "stdout",
     "output_type": "stream",
     "text": [
      "Epoch 12/100, Train Loss: 0.1536, Train Acc: 0.9560, Valid Loss: 3.0116, Valid Acc: 0.3972\n",
      "Early stopping\n",
      "Training shadow model 23/64\n",
      "Epoch 1/100, Train Loss: 2.0962, Train Acc: 0.2708, Valid Loss: 2.4518, Valid Acc: 0.1192\n",
      "Saved model with valid acc: 0.1192 -> ./models/shadow_model_23_resnet18_cifar10_loss_2.2855_acc_0.4132.pth\n",
      "Epoch 2/100, Train Loss: 1.4683, Train Acc: 0.4808, Valid Loss: 2.6762, Valid Acc: 0.1532\n",
      "Saved model with valid acc: 0.1532 -> ./models/shadow_model_23_resnet18_cifar10_loss_2.2855_acc_0.4132.pth\n",
      "Epoch 3/100, Train Loss: 0.9967, Train Acc: 0.6520, Valid Loss: 2.6475, Valid Acc: 0.1912\n",
      "Saved model with valid acc: 0.1912 -> ./models/shadow_model_23_resnet18_cifar10_loss_2.2855_acc_0.4132.pth\n",
      "Epoch 4/100, Train Loss: 0.5664, Train Acc: 0.8144, Valid Loss: 2.6738, Valid Acc: 0.2604\n",
      "Saved model with valid acc: 0.2604 -> ./models/shadow_model_23_resnet18_cifar10_loss_2.2855_acc_0.4132.pth\n",
      "Epoch 5/100, Train Loss: 0.2917, Train Acc: 0.9112, Valid Loss: 2.7478, Valid Acc: 0.3280\n",
      "Saved model with valid acc: 0.3280 -> ./models/shadow_model_23_resnet18_cifar10_loss_2.2855_acc_0.4132.pth\n",
      "Epoch 6/100, Train Loss: 0.2012, Train Acc: 0.9368, Valid Loss: 2.6971, Valid Acc: 0.3980\n",
      "Saved model with valid acc: 0.3980 -> ./models/shadow_model_23_resnet18_cifar10_loss_2.2855_acc_0.4132.pth\n",
      "Epoch 7/100, Train Loss: 0.1582, Train Acc: 0.9448, Valid Loss: 2.8988, Valid Acc: 0.3704\n",
      "Epoch 8/100, Train Loss: 0.1887, Train Acc: 0.9412, Valid Loss: 3.1107, Valid Acc: 0.3828\n",
      "Epoch 9/100, Train Loss: 0.2591, Train Acc: 0.9176, Valid Loss: 4.1810, Valid Acc: 0.3348\n",
      "Epoch 10/100, Train Loss: 0.2623, Train Acc: 0.9052, Valid Loss: 3.3068, Valid Acc: 0.3392\n",
      "Epoch 11/100, Train Loss: 0.1914, Train Acc: 0.9328, Valid Loss: 2.7591, Valid Acc: 0.4024\n"
     ]
    },
    {
     "name": "stderr",
     "output_type": "stream",
     "text": [
      " 38%|███▊      | 24/64 [10:50<18:28, 27.71s/it]"
     ]
    },
    {
     "name": "stdout",
     "output_type": "stream",
     "text": [
      "Saved model with valid acc: 0.4024 -> ./models/shadow_model_23_resnet18_cifar10_loss_2.2855_acc_0.4132.pth\n",
      "Early stopping\n",
      "Training shadow model 24/64\n",
      "Epoch 1/100, Train Loss: 2.0861, Train Acc: 0.2708, Valid Loss: 2.2751, Valid Acc: 0.1408\n",
      "Saved model with valid acc: 0.1408 -> ./models/shadow_model_24_resnet18_cifar10_loss_2.4518_acc_0.4024.pth\n",
      "Epoch 2/100, Train Loss: 1.4400, Train Acc: 0.4880, Valid Loss: 2.5832, Valid Acc: 0.1812\n",
      "Saved model with valid acc: 0.1812 -> ./models/shadow_model_24_resnet18_cifar10_loss_2.4518_acc_0.4024.pth\n",
      "Epoch 3/100, Train Loss: 0.9119, Train Acc: 0.6844, Valid Loss: 2.3710, Valid Acc: 0.2540\n",
      "Saved model with valid acc: 0.2540 -> ./models/shadow_model_24_resnet18_cifar10_loss_2.4518_acc_0.4024.pth\n",
      "Epoch 4/100, Train Loss: 0.4853, Train Acc: 0.8468, Valid Loss: 2.4930, Valid Acc: 0.2936\n",
      "Saved model with valid acc: 0.2936 -> ./models/shadow_model_24_resnet18_cifar10_loss_2.4518_acc_0.4024.pth\n",
      "Epoch 5/100, Train Loss: 0.2431, Train Acc: 0.9324, Valid Loss: 2.3800, Valid Acc: 0.4104\n",
      "Saved model with valid acc: 0.4104 -> ./models/shadow_model_24_resnet18_cifar10_loss_2.4518_acc_0.4024.pth\n",
      "Epoch 6/100, Train Loss: 0.2203, Train Acc: 0.9260, Valid Loss: 2.6757, Valid Acc: 0.4052\n",
      "Epoch 7/100, Train Loss: 0.1973, Train Acc: 0.9352, Valid Loss: 2.9689, Valid Acc: 0.3692\n",
      "Epoch 8/100, Train Loss: 0.1917, Train Acc: 0.9364, Valid Loss: 2.8880, Valid Acc: 0.3872\n",
      "Epoch 9/100, Train Loss: 0.1803, Train Acc: 0.9396, Valid Loss: 3.2952, Valid Acc: 0.3732\n",
      "Epoch 10/100, Train Loss: 0.1504, Train Acc: 0.9472, Valid Loss: 2.9354, Valid Acc: 0.4160\n",
      "Saved model with valid acc: 0.4160 -> ./models/shadow_model_24_resnet18_cifar10_loss_2.4518_acc_0.4024.pth\n"
     ]
    },
    {
     "name": "stderr",
     "output_type": "stream",
     "text": [
      " 39%|███▉      | 25/64 [11:17<17:56, 27.60s/it]"
     ]
    },
    {
     "name": "stdout",
     "output_type": "stream",
     "text": [
      "Epoch 11/100, Train Loss: 0.1126, Train Acc: 0.9640, Valid Loss: 2.8688, Valid Acc: 0.4128\n",
      "Early stopping\n",
      "Training shadow model 25/64\n",
      "Epoch 1/100, Train Loss: 2.1251, Train Acc: 0.2464, Valid Loss: 2.2618, Valid Acc: 0.1644\n",
      "Saved model with valid acc: 0.1644 -> ./models/shadow_model_25_resnet18_cifar10_loss_2.2751_acc_0.4160.pth\n",
      "Epoch 2/100, Train Loss: 1.4456, Train Acc: 0.4932, Valid Loss: 2.6443, Valid Acc: 0.1804\n",
      "Saved model with valid acc: 0.1804 -> ./models/shadow_model_25_resnet18_cifar10_loss_2.2751_acc_0.4160.pth\n",
      "Epoch 3/100, Train Loss: 0.8980, Train Acc: 0.6880, Valid Loss: 2.2297, Valid Acc: 0.2540\n",
      "Saved model with valid acc: 0.2540 -> ./models/shadow_model_25_resnet18_cifar10_loss_2.2751_acc_0.4160.pth\n",
      "Epoch 4/100, Train Loss: 0.4736, Train Acc: 0.8528, Valid Loss: 2.2462, Valid Acc: 0.3444\n",
      "Saved model with valid acc: 0.3444 -> ./models/shadow_model_25_resnet18_cifar10_loss_2.2751_acc_0.4160.pth\n",
      "Epoch 5/100, Train Loss: 0.2314, Train Acc: 0.9320, Valid Loss: 2.5196, Valid Acc: 0.3720\n",
      "Saved model with valid acc: 0.3720 -> ./models/shadow_model_25_resnet18_cifar10_loss_2.2751_acc_0.4160.pth\n",
      "Epoch 6/100, Train Loss: 0.1398, Train Acc: 0.9628, Valid Loss: 2.5527, Valid Acc: 0.4052\n",
      "Saved model with valid acc: 0.4052 -> ./models/shadow_model_25_resnet18_cifar10_loss_2.2751_acc_0.4160.pth\n",
      "Epoch 7/100, Train Loss: 0.1199, Train Acc: 0.9624, Valid Loss: 2.8112, Valid Acc: 0.3936\n",
      "Epoch 8/100, Train Loss: 0.1223, Train Acc: 0.9604, Valid Loss: 2.8945, Valid Acc: 0.3968\n",
      "Epoch 9/100, Train Loss: 0.1513, Train Acc: 0.9564, Valid Loss: 2.8185, Valid Acc: 0.3936\n",
      "Epoch 10/100, Train Loss: 0.1846, Train Acc: 0.9376, Valid Loss: 3.3173, Valid Acc: 0.3552\n"
     ]
    },
    {
     "name": "stderr",
     "output_type": "stream",
     "text": [
      " 41%|████      | 26/64 [11:41<16:49, 26.56s/it]"
     ]
    },
    {
     "name": "stdout",
     "output_type": "stream",
     "text": [
      "Epoch 11/100, Train Loss: 0.2127, Train Acc: 0.9260, Valid Loss: 3.1753, Valid Acc: 0.3556\n",
      "Early stopping\n",
      "Training shadow model 26/64\n",
      "Epoch 1/100, Train Loss: 2.0970, Train Acc: 0.2724, Valid Loss: 2.4211, Valid Acc: 0.1228\n",
      "Saved model with valid acc: 0.1228 -> ./models/shadow_model_26_resnet18_cifar10_loss_2.2297_acc_0.4052.pth\n",
      "Epoch 2/100, Train Loss: 1.3959, Train Acc: 0.5084, Valid Loss: 2.6420, Valid Acc: 0.1692\n",
      "Saved model with valid acc: 0.1692 -> ./models/shadow_model_26_resnet18_cifar10_loss_2.2297_acc_0.4052.pth\n",
      "Epoch 3/100, Train Loss: 0.8978, Train Acc: 0.6880, Valid Loss: 2.4668, Valid Acc: 0.2572\n",
      "Saved model with valid acc: 0.2572 -> ./models/shadow_model_26_resnet18_cifar10_loss_2.2297_acc_0.4052.pth\n"
     ]
    }
   ],
   "source": [
    "shadow_set = DSET_CLASS(root='./data', train=True, download=True, transform=transform)\n",
    "shadow_loader = DataLoader(shadow_set, batch_size=256, shuffle=True, num_workers=2)\n",
    "\n",
    "# define dataset for attack model that shadow models will generate\n",
    "columns_attack_sdet = [f\"top_{index}_prob\" for index in range(10)]\n",
    "df_attack_dset = pd.DataFrame({}, columns=columns_attack_sdet + [\"is_member\"])\n",
    "\n",
    "# random subset for shadow model train & validation from the CIFAR shadow_set\n",
    "list_train_loader = []\n",
    "list_eval_loader = []\n",
    "list_test_loader = []\n",
    "\n",
    "NUM_SHODOW_MODELS = 64\n",
    "\n",
    "for _ in range(NUM_SHODOW_MODELS):\n",
    "    train_indices = np.random.choice(len(shadow_set), 2500, replace=False)\n",
    "    eval_indices = np.setdiff1d(np.arange(len(shadow_set)), train_indices)\n",
    "    eval_indices = np.random.choice(eval_indices, 2500, replace=False)\n",
    "    test_indices = np.setdiff1d(\n",
    "        np.arange(len(shadow_set)), np.concatenate((train_indices, eval_indices))\n",
    "    )\n",
    "    test_indices = np.random.choice(test_indices, 2500, replace=False)\n",
    "\n",
    "    subset_train = Subset(shadow_set, train_indices)\n",
    "    subset_eval = Subset(shadow_set, eval_indices)\n",
    "    subset_test = Subset(shadow_set, test_indices)\n",
    "\n",
    "    subset_train_loader = DataLoader(subset_train, batch_size=256, shuffle=True, num_workers=2)\n",
    "    subset_eval_loader = DataLoader(subset_eval, batch_size=256, shuffle=False, num_workers=2)\n",
    "    subset_test_loader = DataLoader(subset_test, batch_size=256, shuffle=False, num_workers=2)\n",
    "\n",
    "    list_train_loader.append(subset_train_loader)\n",
    "    list_eval_loader.append(subset_eval_loader)\n",
    "    list_test_loader.append(subset_test_loader)\n",
    "\n",
    "model_architecture = importlib.import_module(\"torchvision.models\")\n",
    "model_class = getattr(model_architecture, \"resnet18\")\n",
    "criterion = nn.CrossEntropyLoss()\n",
    "\n",
    "for shadow_number, shadow_loader in enumerate(tqdm(list_train_loader)):\n",
    "    print(f\"Training shadow model {shadow_number}/{NUM_SHODOW_MODELS}\")\n",
    "    evalloader = list_eval_loader[shadow_number]\n",
    "    testloader = list_test_loader[shadow_number]\n",
    "\n",
    "    shadow_model = model_class(pretrained=False)\n",
    "    shadow_model.fc = nn.Linear(in_features=shadow_model.fc.in_features, out_features=NUM_CLASSES, bias=True)\n",
    "    shadow_model = shadow_model.to(device)\n",
    "    optimizer = AdamW(shadow_model.parameters(), lr=0.001, weight_decay=0.00001)\n",
    "\n",
    "    run_name = f\"shadow_model_{shadow_number}_resnet18_cifar10_loss_{best_valid_loss:.4f}_acc_{best_valid_acc:.4f}\"\n",
    "\n",
    "    early_stop_acc1 = EarlyStopPatience(patience=10)\n",
    "    best_valid_acc = 0\n",
    "    best_valid_loss = 10\n",
    "\n",
    "    for epoch in range(EPOCHS):\n",
    "        shadow_model.train()\n",
    "        train_loss = 0\n",
    "        train_acc = 0\n",
    "        for i, (inputs, labels) in enumerate(shadow_loader):\n",
    "            inputs, labels = inputs.to(device), labels.to(device)\n",
    "            optimizer.zero_grad()\n",
    "            outputs = shadow_model(inputs)\n",
    "            loss = criterion(outputs, labels)\n",
    "            loss.backward()\n",
    "            optimizer.step()\n",
    "            train_loss += loss.item()\n",
    "            train_acc += (outputs.argmax(1) == labels).sum().item()\n",
    "\n",
    "        train_loss /= len(shadow_loader)\n",
    "        train_acc /= len(shadow_loader.dataset)\n",
    "\n",
    "        shadow_model.eval()\n",
    "        valid_loss = 0\n",
    "        valid_acc = 0\n",
    "        with torch.no_grad():\n",
    "            for i, (inputs, labels) in enumerate(evalloader):\n",
    "                inputs, labels = inputs.to(device), labels.to(device)\n",
    "                outputs = shadow_model(inputs)\n",
    "                loss = criterion(outputs, labels)\n",
    "                valid_loss += loss.item()\n",
    "                valid_acc += (outputs.argmax(1) == labels).sum().item()\n",
    "\n",
    "        valid_loss /= len(evalloader)\n",
    "        valid_acc /= len(evalloader.dataset)\n",
    "\n",
    "        print(f\"Epoch {epoch+1}/{EPOCHS}, Train Loss: {train_loss:.4f}, Train Acc: {train_acc:.4f}, Valid Loss: {valid_loss:.4f}, Valid Acc: {valid_acc:.4f}\")\n",
    "\n",
    "        if valid_acc > best_valid_acc:\n",
    "            best_valid_acc = valid_acc\n",
    "            torch.save(shadow_model.state_dict(), f\"{SAVE_PATH}/{run_name}.pth\")\n",
    "            print(f\"Saved model with valid acc: {valid_acc:.4f} -> {SAVE_PATH}/{run_name}.pth\")\n",
    "\n",
    "        if valid_loss < best_valid_loss:\n",
    "            best_valid_loss = valid_loss\n",
    "\n",
    "        if early_stop_acc1(valid_acc):\n",
    "            print(\"Early stopping\")\n",
    "            break\n",
    "    "
   ]
  },
  {
   "cell_type": "code",
   "execution_count": null,
   "metadata": {},
   "outputs": [],
   "source": [
    "def make_member_nonmember(finetuned_model, trainloader, testloader, criterion, device):\n",
    "    \"\"\" \n",
    "    - finetuned_model: finetuned shadow model\n",
    "    - trainloader: member\n",
    "    - testloader: non-member\n",
    "    - criterion: loss function\n",
    "    - device: cuda or cpu\n",
    "    \"\"\"\n",
    "\n",
    "    member_dset = []\n",
    "    non_member_dset = []\n",
    "\n",
    "    finetuned_model.eval()\n",
    "    with torch.no_grad():\n",
    "        for i, (images, labels) in enumerate(tqdm(trainloader)):\n",
    "            images = images.to(device)\n",
    "            labels = labels.to(device)\n",
    "\n",
    "            # compute output\n",
    "            output = finetuned_model(images)\n",
    "            prob = F.softmax(output, dim=1)  # softmax logits\n",
    "\n",
    "            # get top inferred classes probability and append to member_dset\n",
    "            top_p, top_class = prob.topk(CFG.topk_num_accessible_probs, dim=1)\n",
    "            top_p = top_p.cpu().detach().numpy()  # detach from cuda\n",
    "            # loss = criterion(output, labels)\n",
    "            member_dset.append(top_p)\n",
    "\n",
    "        for i, (images, labels) in enumerate(tqdm(testloader)):\n",
    "            images = images.to(device)\n",
    "            labels = labels.to(device)\n",
    "\n",
    "            # compute output\n",
    "            output = finetuned_model(images)\n",
    "            prob = F.softmax(output, dim=1)  # softmax logits\n",
    "\n",
    "            # get top inferred classes probability and append to member_dset\n",
    "            top_p, top_class = prob.topk(CFG.topk_num_accessible_probs, dim=1)\n",
    "            top_p = top_p.cpu().detach().numpy()  # detach from cuda\n",
    "\n",
    "            # append to non_member_dset\n",
    "            non_member_dset.append(top_p)\n",
    "\n",
    "    max_len = max(max(len(x) for x in member_dset), max(len(x) for x in non_member_dset))\n",
    "    member_dset = [np.pad(x, ((0, max_len - len(x)), (0, 0)), mode='constant') for x in member_dset]\n",
    "    non_member_dset = [np.pad(x, ((0, max_len - len(x)), (0, 0)), mode='constant') for x in non_member_dset]\n",
    "\n",
    "    # change into numpy array type\n",
    "    member_dset, non_member_dset = np.array(member_dset), np.array(non_member_dset)\n",
    "\n",
    "    # return as dataset row x number of accessible probabilities: (ex) 25000 x 5, 25000 x 5\n",
    "    return np.concatenate(member_dset, axis=0), np.concatenate(non_member_dset, axis=0)\n",
    "\n"
   ]
  },
  {
   "cell_type": "code",
   "execution_count": null,
   "metadata": {},
   "outputs": [],
   "source": [
    "member_dset, non_member_dset = make_member_nonmember(\n",
    "        finetuned_model, shadow_loader, testloader, criterion, device\n",
    "    )\n",
    "df_member = pd.DataFrame(member_dset, columns=columns_attack_sdet)\n",
    "df_member[\"is_member\"] = 1\n",
    "df_non_member = pd.DataFrame(non_member_dset, columns=columns_attack_sdet)\n",
    "df_non_member[\"is_member\"] = 0\n",
    "\n",
    "df_attack_dset = pd.concat([df_member, df_non_member], axis=0)\n",
    "ATTACK_SAVE_PATH = \"./attack\"\n",
    "df_attack_dset.to_csv(\n",
    "    f\"{ATTACK_SAVE_PATH}/{shadow_model.__class__.__name__}_pretrained_False_num_shadow_{NUM_SHODOW_MODELS}_CIFAR{NUM_CLASSES}_attack_dset.csv\",\n",
    "    index=False,\n",
    ")\n",
    "\n",
    "shadow_model.cpu()\n",
    "del shadow_model, optimizer, shadow_loader, evalloader, testloader\n",
    "torch.cuda.empty_cache()"
   ]
  },
  {
   "cell_type": "code",
   "execution_count": null,
   "metadata": {},
   "outputs": [],
   "source": []
  },
  {
   "cell_type": "code",
   "execution_count": null,
   "metadata": {},
   "outputs": [],
   "source": []
  },
  {
   "cell_type": "code",
   "execution_count": null,
   "metadata": {},
   "outputs": [],
   "source": []
  },
  {
   "cell_type": "code",
   "execution_count": null,
   "metadata": {},
   "outputs": [],
   "source": []
  },
  {
   "cell_type": "code",
   "execution_count": null,
   "metadata": {},
   "outputs": [],
   "source": []
  },
  {
   "cell_type": "code",
   "execution_count": null,
   "metadata": {},
   "outputs": [],
   "source": []
  }
 ],
 "metadata": {
  "kernelspec": {
   "display_name": ".venv",
   "language": "python",
   "name": "python3"
  },
  "language_info": {
   "codemirror_mode": {
    "name": "ipython",
    "version": 3
   },
   "file_extension": ".py",
   "mimetype": "text/x-python",
   "name": "python",
   "nbconvert_exporter": "python",
   "pygments_lexer": "ipython3",
   "version": "3.12.3"
  }
 },
 "nbformat": 4,
 "nbformat_minor": 2
}
