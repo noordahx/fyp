{
 "cells": [
  {
   "cell_type": "code",
   "execution_count": 1,
   "metadata": {},
   "outputs": [
    {
     "name": "stdout",
     "output_type": "stream",
     "text": [
      "Using device: cuda\n"
     ]
    }
   ],
   "source": [
    "import os\n",
    "import torch\n",
    "import torchvision\n",
    "import torch.nn as nn\n",
    "import torch.nn.functional as F\n",
    "from torch.optim import Adam, AdamW\n",
    "from torch.utils.data import DataLoader, Subset\n",
    "import torchvision.transforms as transforms\n",
    "from tqdm import tqdm\n",
    "import pandas as pd\n",
    "import numpy as np\n",
    "import importlib\n",
    "\n",
    "device = torch.device('cuda' if torch.cuda.is_available() else 'cpu')\n",
    "print('Using device:', device)\n",
    "\n",
    "torch.backends.cudnn.benchmark = True\n",
    "# torch.cuda.set_per_process_memory_fraction(0.7)\n",
    "torch.cuda.empty_cache()"
   ]
  },
  {
   "cell_type": "code",
   "execution_count": 2,
   "metadata": {},
   "outputs": [
    {
     "name": "stdout",
     "output_type": "stream",
     "text": [
      "Files already downloaded and verified\n",
      "mapped classes to ids: {'airplane': 0, 'automobile': 1, 'bird': 2, 'cat': 3, 'deer': 4, 'dog': 5, 'frog': 6, 'horse': 7, 'ship': 8, 'truck': 9}\n"
     ]
    }
   ],
   "source": [
    "DSET_CLASS = torchvision.datasets.CIFAR10\n",
    "NUM_CLASSES = 10\n",
    "\n",
    "transform = transforms.Compose(\n",
    "    [\n",
    "        transforms.Resize((32, 32)),\n",
    "        transforms.ToTensor(),\n",
    "        transforms.Normalize((0.5, 0.5, 0.5), (0.5, 0.5, 0.5)),\n",
    "    ]\n",
    ")\n",
    "\n",
    "testset = DSET_CLASS(root='./data', train=False, download=True, transform=transform)\n",
    "testloader = DataLoader(testset, batch_size=512, shuffle=False, num_workers=2)\n",
    "\n",
    "# define dataset for attack model that shadow models will generate\n",
    "print(\"mapped classes to ids:\", testset.class_to_idx)\n"
   ]
  },
  {
   "cell_type": "code",
   "execution_count": 3,
   "metadata": {},
   "outputs": [],
   "source": [
    "# Training multiple shadow models\n",
    "model_architecture = importlib.import_module(\"torchvision.models\")\n",
    "model_class = getattr(model_architecture, \"resnet18\")\n",
    "criterion = nn.CrossEntropyLoss()\n",
    "\n",
    "# Train Target Model\n",
    "target_model = model_class(num_classes=NUM_CLASSES)\n",
    "target_model.fc = nn.Linear(in_features=target_model.fc.in_features, out_features=NUM_CLASSES, bias=True)\n",
    "target_model = target_model.to(device)\n",
    "optimizer = AdamW(target_model.parameters(), lr=0.001, weight_decay=0.00001)\n",
    "\n",
    "target_train_indices = np.random.choice(len(testset), 5000, replace=False)\n",
    "target_eval_indices = np.setdiff1d(np.arange(len(testset)), target_train_indices)\n"
   ]
  },
  {
   "cell_type": "code",
   "execution_count": 4,
   "metadata": {},
   "outputs": [],
   "source": [
    "os.makedirs(\"./models\", exist_ok=True)\n",
    "pd.DataFrame(target_train_indices, columns=[\"index\"]).to_csv(\n",
    "    \"./models/target_train_indices.csv\", index=False\n",
    ")\n",
    "\n",
    "subset_tgt_train = Subset(testset, target_train_indices)\n",
    "subset_tgt_eval = Subset(testset, target_eval_indices)\n",
    "\n",
    "subset_tgt_train_loader = DataLoader(subset_tgt_train, batch_size=256, shuffle=True, num_workers=2)\n",
    "subset_tgt_eval_loader = DataLoader(subset_tgt_eval, batch_size=512, shuffle=False, num_workers=2)\n",
    "\n",
    "run_name = f\"target_model_resnet18_cifar10\""
   ]
  },
  {
   "cell_type": "code",
   "execution_count": 5,
   "metadata": {},
   "outputs": [],
   "source": [
    "class EarlyStopPatience(nn.Module):\n",
    "    def __init__(self, patience=10):\n",
    "        super(EarlyStopPatience, self).__init__()\n",
    "        self.patience = patience\n",
    "        self.counter = 0\n",
    "        self.best_loss = None\n",
    "\n",
    "    def __call__(self, loss):\n",
    "        if self.best_loss is None:\n",
    "            self.best_loss = loss\n",
    "        elif loss > self.best_loss:\n",
    "            self.counter += 1\n",
    "            if self.counter >= self.patience:\n",
    "                return True\n",
    "        else:\n",
    "            self.best_loss = loss\n",
    "            self.counter = 0\n",
    "        return False"
   ]
  },
  {
   "cell_type": "code",
   "execution_count": 8,
   "metadata": {},
   "outputs": [
    {
     "name": "stdout",
     "output_type": "stream",
     "text": [
      "Epoch 1/100, Train Loss: 0.6424, Train Acc: 0.7858, Valid Loss: 1.5764, Valid Acc: 0.4788\n",
      "Saved model with valid acc: 0.4788 -> ./models/shadow_model_0_resnet18_cifar10.pth\n",
      "Epoch 2/100, Train Loss: 0.6419, Train Acc: 0.7892, Valid Loss: 1.5723, Valid Acc: 0.4846\n",
      "Saved model with valid acc: 0.4846 -> ./models/shadow_model_0_resnet18_cifar10.pth\n",
      "Epoch 3/100, Train Loss: 0.6443, Train Acc: 0.7838, Valid Loss: 1.5747, Valid Acc: 0.4836\n",
      "Epoch 4/100, Train Loss: 0.6432, Train Acc: 0.7860, Valid Loss: 1.5755, Valid Acc: 0.4838\n",
      "Epoch 5/100, Train Loss: 0.6407, Train Acc: 0.7852, Valid Loss: 1.5733, Valid Acc: 0.4834\n",
      "Epoch 6/100, Train Loss: 0.6410, Train Acc: 0.7866, Valid Loss: 1.5768, Valid Acc: 0.4832\n",
      "Epoch 7/100, Train Loss: 0.6465, Train Acc: 0.7848, Valid Loss: 1.5747, Valid Acc: 0.4818\n",
      "Epoch 8/100, Train Loss: 0.6472, Train Acc: 0.7852, Valid Loss: 1.5722, Valid Acc: 0.4834\n",
      "Epoch 9/100, Train Loss: 0.6439, Train Acc: 0.7860, Valid Loss: 1.5749, Valid Acc: 0.4836\n",
      "Epoch 10/100, Train Loss: 0.6445, Train Acc: 0.7858, Valid Loss: 1.5752, Valid Acc: 0.4822\n",
      "Epoch 11/100, Train Loss: 0.6433, Train Acc: 0.7852, Valid Loss: 1.5745, Valid Acc: 0.4836\n",
      "Early stopping\n",
      "Loading best model...\n",
      "Best valid acc: 0.4846\n",
      "Best valid loss: 1.5722\n"
     ]
    },
    {
     "name": "stderr",
     "output_type": "stream",
     "text": [
      "/tmp/ipykernel_108496/3042342292.py:62: FutureWarning: You are using `torch.load` with `weights_only=False` (the current default value), which uses the default pickle module implicitly. It is possible to construct malicious pickle data which will execute arbitrary code during unpickling (See https://github.com/pytorch/pytorch/blob/main/SECURITY.md#untrusted-models for more details). In a future release, the default value for `weights_only` will be flipped to `True`. This limits the functions that could be executed during unpickling. Arbitrary objects will no longer be allowed to be loaded via this mode unless they are explicitly allowlisted by the user via `torch.serialization.add_safe_globals`. We recommend you start setting `weights_only=True` for any use case where you don't have full control of the loaded file. Please open an issue on GitHub for any issues related to this experimental feature.\n",
      "  target_model.load_state_dict(torch.load(f\"{SAVE_PATH}/{run_name}.pth\"))\n"
     ]
    },
    {
     "data": {
      "text/plain": [
       "<All keys matched successfully>"
      ]
     },
     "execution_count": 8,
     "metadata": {},
     "output_type": "execute_result"
    }
   ],
   "source": [
    "EPOCHS = 100\n",
    "SAVE_PATH = \"./models\"\n",
    "\n",
    "\n",
    "early_stop_acc1 = EarlyStopPatience(patience=10)\n",
    "best_valid_acc = 0\n",
    "best_valid_loss = 10\n",
    "\n",
    "\n",
    "if not os.path.exists(SAVE_PATH):\n",
    "    os.makedirs(SAVE_PATH)\n",
    "\n",
    "for epoch in range(EPOCHS):\n",
    "    target_model.train()\n",
    "    train_loss = 0\n",
    "    train_acc = 0\n",
    "    for i, (inputs, labels) in enumerate(subset_tgt_train_loader):\n",
    "        inputs, labels = inputs.to(device), labels.to(device)\n",
    "        optimizer.zero_grad()\n",
    "        outputs = target_model(inputs)\n",
    "        loss = criterion(outputs, labels)\n",
    "        loss.backward()\n",
    "        optimizer.step()\n",
    "        train_loss += loss.item()\n",
    "        train_acc += (outputs.argmax(1) == labels).sum().item()\n",
    "\n",
    "    train_loss /= len(subset_tgt_train_loader)\n",
    "    train_acc /= len(subset_tgt_train_loader.dataset)\n",
    "\n",
    "    target_model.eval()\n",
    "    valid_loss = 0\n",
    "    valid_acc = 0\n",
    "    with torch.no_grad():\n",
    "        for i, (inputs, labels) in enumerate(subset_tgt_eval_loader):\n",
    "            inputs, labels = inputs.to(device), labels.to(device)\n",
    "            outputs = target_model(inputs)\n",
    "            loss = criterion(outputs, labels)\n",
    "            valid_loss += loss.item()\n",
    "            valid_acc += (outputs.argmax(1) == labels).sum().item()\n",
    "\n",
    "    valid_loss /= len(subset_tgt_eval_loader)\n",
    "    valid_acc /= len(subset_tgt_eval_loader.dataset)\n",
    "\n",
    "    print(f\"Epoch {epoch+1}/{EPOCHS}, Train Loss: {train_loss:.4f}, Train Acc: {train_acc:.4f}, Valid Loss: {valid_loss:.4f}, Valid Acc: {valid_acc:.4f}\")\n",
    "\n",
    "    if valid_acc > best_valid_acc:\n",
    "        best_valid_acc = valid_acc\n",
    "        torch.save(target_model.state_dict(), f\"{SAVE_PATH}/{run_name}.pth\")\n",
    "        print(f\"Saved model with valid acc: {valid_acc:.4f} -> {SAVE_PATH}/{run_name}.pth\")\n",
    "\n",
    "    if valid_loss < best_valid_loss:\n",
    "        best_valid_loss = valid_loss\n",
    "\n",
    "    if early_stop_acc1(valid_acc):\n",
    "        print(\"Early stopping\")\n",
    "        break\n",
    "\n",
    "print(\"Loading best model...\")\n",
    "print(f\"Best valid acc: {best_valid_acc:.4f}\")\n",
    "print(f\"Best valid loss: {best_valid_loss:.4f}\")\n",
    "\n",
    "target_model.load_state_dict(torch.load(f\"{SAVE_PATH}/{run_name}.pth\"))\n",
    "\n"
   ]
  },
  {
   "cell_type": "code",
   "execution_count": null,
   "metadata": {},
   "outputs": [],
   "source": []
  },
  {
   "cell_type": "code",
   "execution_count": null,
   "metadata": {},
   "outputs": [],
   "source": []
  },
  {
   "cell_type": "code",
   "execution_count": null,
   "metadata": {},
   "outputs": [],
   "source": []
  },
  {
   "cell_type": "code",
   "execution_count": null,
   "metadata": {},
   "outputs": [],
   "source": []
  },
  {
   "cell_type": "code",
   "execution_count": null,
   "metadata": {},
   "outputs": [],
   "source": []
  },
  {
   "cell_type": "code",
   "execution_count": null,
   "metadata": {},
   "outputs": [],
   "source": []
  },
  {
   "cell_type": "code",
   "execution_count": null,
   "metadata": {},
   "outputs": [
    {
     "name": "stdout",
     "output_type": "stream",
     "text": [
      "Files already downloaded and verified\n"
     ]
    },
    {
     "name": "stderr",
     "output_type": "stream",
     "text": [
      "  0%|          | 0/64 [00:00<?, ?it/s]/home/nurda/repos/fyp/.venv/lib/python3.12/site-packages/torchvision/models/_utils.py:208: UserWarning: The parameter 'pretrained' is deprecated since 0.13 and may be removed in the future, please use 'weights' instead.\n",
      "  warnings.warn(\n",
      "/home/nurda/repos/fyp/.venv/lib/python3.12/site-packages/torchvision/models/_utils.py:223: UserWarning: Arguments other than a weight enum or `None` for 'weights' are deprecated since 0.13 and may be removed in the future. The current behavior is equivalent to passing `weights=None`.\n",
      "  warnings.warn(msg)\n"
     ]
    },
    {
     "name": "stdout",
     "output_type": "stream",
     "text": [
      "Training shadow model 0/64\n",
      "Epoch 1/100, Train Loss: 2.1465, Train Acc: 0.2352, Valid Loss: 2.3191, Valid Acc: 0.1496\n",
      "Saved model with valid acc: 0.1496 -> ./models/shadow_model_0_resnet18_cifar10.pth\n",
      "Epoch 2/100, Train Loss: 1.4797, Train Acc: 0.4836, Valid Loss: 2.3162, Valid Acc: 0.2272\n",
      "Saved model with valid acc: 0.2272 -> ./models/shadow_model_0_resnet18_cifar10.pth\n",
      "Epoch 3/100, Train Loss: 0.9540, Train Acc: 0.6748, Valid Loss: 2.1440, Valid Acc: 0.2980\n",
      "Saved model with valid acc: 0.2980 -> ./models/shadow_model_0_resnet18_cifar10.pth\n",
      "Epoch 4/100, Train Loss: 0.5007, Train Acc: 0.8368, Valid Loss: 2.3194, Valid Acc: 0.3300\n",
      "Saved model with valid acc: 0.3300 -> ./models/shadow_model_0_resnet18_cifar10.pth\n",
      "Epoch 5/100, Train Loss: 0.2428, Train Acc: 0.9320, Valid Loss: 2.3756, Valid Acc: 0.3896\n",
      "Saved model with valid acc: 0.3896 -> ./models/shadow_model_0_resnet18_cifar10.pth\n",
      "Epoch 6/100, Train Loss: 0.1360, Train Acc: 0.9600, Valid Loss: 2.8441, Valid Acc: 0.3720\n",
      "Epoch 7/100, Train Loss: 0.1139, Train Acc: 0.9624, Valid Loss: 2.7632, Valid Acc: 0.4080\n",
      "Saved model with valid acc: 0.4080 -> ./models/shadow_model_0_resnet18_cifar10.pth\n",
      "Epoch 8/100, Train Loss: 0.1248, Train Acc: 0.9604, Valid Loss: 2.9898, Valid Acc: 0.3852\n",
      "Epoch 9/100, Train Loss: 0.1551, Train Acc: 0.9480, Valid Loss: 2.9685, Valid Acc: 0.3776\n",
      "Epoch 10/100, Train Loss: 0.2357, Train Acc: 0.9224, Valid Loss: 3.0408, Valid Acc: 0.3724\n"
     ]
    },
    {
     "name": "stderr",
     "output_type": "stream",
     "text": [
      "  2%|▏         | 1/64 [00:24<26:14, 24.99s/it]"
     ]
    },
    {
     "name": "stdout",
     "output_type": "stream",
     "text": [
      "Epoch 11/100, Train Loss: 0.2600, Train Acc: 0.9156, Valid Loss: 3.5481, Valid Acc: 0.3888\n",
      "Early stopping\n",
      "Training shadow model 1/64\n",
      "Epoch 1/100, Train Loss: 2.0958, Train Acc: 0.2564, Valid Loss: 2.3130, Valid Acc: 0.1668\n",
      "Saved model with valid acc: 0.1668 -> ./models/shadow_model_1_resnet18_cifar10.pth\n",
      "Epoch 2/100, Train Loss: 1.4417, Train Acc: 0.5028, Valid Loss: 2.5524, Valid Acc: 0.1960\n",
      "Saved model with valid acc: 0.1960 -> ./models/shadow_model_1_resnet18_cifar10.pth\n",
      "Epoch 3/100, Train Loss: 0.8979, Train Acc: 0.6884, Valid Loss: 2.6456, Valid Acc: 0.2224\n",
      "Saved model with valid acc: 0.2224 -> ./models/shadow_model_1_resnet18_cifar10.pth\n",
      "Epoch 4/100, Train Loss: 0.4525, Train Acc: 0.8532, Valid Loss: 2.5746, Valid Acc: 0.3032\n",
      "Saved model with valid acc: 0.3032 -> ./models/shadow_model_1_resnet18_cifar10.pth\n",
      "Epoch 5/100, Train Loss: 0.2113, Train Acc: 0.9424, Valid Loss: 2.3790, Valid Acc: 0.3772\n",
      "Saved model with valid acc: 0.3772 -> ./models/shadow_model_1_resnet18_cifar10.pth\n",
      "Epoch 6/100, Train Loss: 0.1599, Train Acc: 0.9440, Valid Loss: 2.6641, Valid Acc: 0.4024\n",
      "Saved model with valid acc: 0.4024 -> ./models/shadow_model_1_resnet18_cifar10.pth\n",
      "Epoch 7/100, Train Loss: 0.1403, Train Acc: 0.9544, Valid Loss: 2.9532, Valid Acc: 0.3728\n",
      "Epoch 8/100, Train Loss: 0.1546, Train Acc: 0.9476, Valid Loss: 2.9795, Valid Acc: 0.4024\n",
      "Epoch 9/100, Train Loss: 0.1635, Train Acc: 0.9464, Valid Loss: 2.9649, Valid Acc: 0.3756\n",
      "Epoch 10/100, Train Loss: 0.1914, Train Acc: 0.9332, Valid Loss: 2.9966, Valid Acc: 0.3896\n"
     ]
    },
    {
     "name": "stderr",
     "output_type": "stream",
     "text": [
      "  3%|▎         | 2/64 [00:48<25:00, 24.20s/it]"
     ]
    },
    {
     "name": "stdout",
     "output_type": "stream",
     "text": [
      "Epoch 11/100, Train Loss: 0.1703, Train Acc: 0.9420, Valid Loss: 3.2426, Valid Acc: 0.3704\n",
      "Early stopping\n",
      "Training shadow model 2/64\n",
      "Epoch 1/100, Train Loss: 2.0827, Train Acc: 0.2596, Valid Loss: 2.3143, Valid Acc: 0.1148\n",
      "Saved model with valid acc: 0.1148 -> ./models/shadow_model_2_resnet18_cifar10.pth\n",
      "Epoch 2/100, Train Loss: 1.3915, Train Acc: 0.5152, Valid Loss: 2.4692, Valid Acc: 0.1532\n",
      "Saved model with valid acc: 0.1532 -> ./models/shadow_model_2_resnet18_cifar10.pth\n",
      "Epoch 3/100, Train Loss: 0.8544, Train Acc: 0.7072, Valid Loss: 2.3107, Valid Acc: 0.2836\n",
      "Saved model with valid acc: 0.2836 -> ./models/shadow_model_2_resnet18_cifar10.pth\n",
      "Epoch 4/100, Train Loss: 0.4167, Train Acc: 0.8664, Valid Loss: 2.4335, Valid Acc: 0.3376\n",
      "Saved model with valid acc: 0.3376 -> ./models/shadow_model_2_resnet18_cifar10.pth\n",
      "Epoch 5/100, Train Loss: 0.2371, Train Acc: 0.9236, Valid Loss: 2.6068, Valid Acc: 0.3720\n",
      "Saved model with valid acc: 0.3720 -> ./models/shadow_model_2_resnet18_cifar10.pth\n",
      "Epoch 6/100, Train Loss: 0.1524, Train Acc: 0.9508, Valid Loss: 2.6398, Valid Acc: 0.3808\n",
      "Saved model with valid acc: 0.3808 -> ./models/shadow_model_2_resnet18_cifar10.pth\n",
      "Epoch 7/100, Train Loss: 0.1491, Train Acc: 0.9520, Valid Loss: 2.7161, Valid Acc: 0.4068\n",
      "Saved model with valid acc: 0.4068 -> ./models/shadow_model_2_resnet18_cifar10.pth\n",
      "Epoch 8/100, Train Loss: 0.1614, Train Acc: 0.9424, Valid Loss: 2.8328, Valid Acc: 0.3932\n",
      "Epoch 9/100, Train Loss: 0.1717, Train Acc: 0.9464, Valid Loss: 2.9894, Valid Acc: 0.4024\n",
      "Epoch 10/100, Train Loss: 0.1914, Train Acc: 0.9304, Valid Loss: 3.0903, Valid Acc: 0.3960\n"
     ]
    },
    {
     "name": "stderr",
     "output_type": "stream",
     "text": [
      "  5%|▍         | 3/64 [01:23<29:33, 29.08s/it]"
     ]
    },
    {
     "name": "stdout",
     "output_type": "stream",
     "text": [
      "Epoch 11/100, Train Loss: 0.1773, Train Acc: 0.9384, Valid Loss: 3.3410, Valid Acc: 0.3996\n",
      "Early stopping\n",
      "Training shadow model 3/64\n",
      "Epoch 1/100, Train Loss: 2.1327, Train Acc: 0.2540, Valid Loss: 2.3271, Valid Acc: 0.1460\n",
      "Saved model with valid acc: 0.1460 -> ./models/shadow_model_3_resnet18_cifar10.pth\n",
      "Epoch 2/100, Train Loss: 1.4662, Train Acc: 0.4768, Valid Loss: 2.8573, Valid Acc: 0.1596\n",
      "Saved model with valid acc: 0.1596 -> ./models/shadow_model_3_resnet18_cifar10.pth\n",
      "Epoch 3/100, Train Loss: 0.9325, Train Acc: 0.6832, Valid Loss: 2.5923, Valid Acc: 0.2516\n",
      "Saved model with valid acc: 0.2516 -> ./models/shadow_model_3_resnet18_cifar10.pth\n",
      "Epoch 4/100, Train Loss: 0.5191, Train Acc: 0.8264, Valid Loss: 2.4745, Valid Acc: 0.3024\n",
      "Saved model with valid acc: 0.3024 -> ./models/shadow_model_3_resnet18_cifar10.pth\n"
     ]
    }
   ],
   "source": [
    "shadow_set = DSET_CLASS(root='./data', train=True, download=True, transform=transform)\n",
    "shadow_loader = DataLoader(shadow_set, batch_size=256, shuffle=True, num_workers=2)\n",
    "\n",
    "# define dataset for attack model that shadow models will generate\n",
    "columns_attack_sdet = [f\"top_{index}_prob\" for index in range(10)]\n",
    "df_attack_dset = pd.DataFrame({}, columns=columns_attack_sdet + [\"is_member\"])\n",
    "\n",
    "# random subset for shadow model train & validation from the CIFAR shadow_set\n",
    "list_train_loader = []\n",
    "list_eval_loader = []\n",
    "list_test_loader = []\n",
    "\n",
    "NUM_SHODOW_MODELS = 64\n",
    "\n",
    "for _ in range(NUM_SHODOW_MODELS):\n",
    "    train_indices = np.random.choice(len(shadow_set), 2500, replace=False)\n",
    "    eval_indices = np.setdiff1d(np.arange(len(shadow_set)), train_indices)\n",
    "    eval_indices = np.random.choice(eval_indices, 2500, replace=False)\n",
    "    test_indices = np.setdiff1d(\n",
    "        np.arange(len(shadow_set)), np.concatenate((train_indices, eval_indices))\n",
    "    )\n",
    "    test_indices = np.random.choice(test_indices, 2500, replace=False)\n",
    "\n",
    "    subset_train = Subset(shadow_set, train_indices)\n",
    "    subset_eval = Subset(shadow_set, eval_indices)\n",
    "    subset_test = Subset(shadow_set, test_indices)\n",
    "\n",
    "    subset_train_loader = DataLoader(subset_train, batch_size=256, shuffle=True, num_workers=2)\n",
    "    subset_eval_loader = DataLoader(subset_eval, batch_size=256, shuffle=False, num_workers=2)\n",
    "    subset_test_loader = DataLoader(subset_test, batch_size=256, shuffle=False, num_workers=2)\n",
    "\n",
    "    list_train_loader.append(subset_train_loader)\n",
    "    list_eval_loader.append(subset_eval_loader)\n",
    "    list_test_loader.append(subset_test_loader)\n",
    "\n",
    "model_architecture = importlib.import_module(\"torchvision.models\")\n",
    "model_class = getattr(model_architecture, \"resnet18\")\n",
    "criterion = nn.CrossEntropyLoss()\n",
    "\n",
    "for shadow_number, shadow_loader in enumerate(tqdm(list_train_loader)):\n",
    "    print(f\"Training shadow model {shadow_number}/{NUM_SHODOW_MODELS}\")\n",
    "    evalloader = list_eval_loader[shadow_number]\n",
    "    testloader = list_test_loader[shadow_number]\n",
    "\n",
    "    shadow_model = model_class(pretrained=False)\n",
    "    shadow_model.fc = nn.Linear(in_features=shadow_model.fc.in_features, out_features=NUM_CLASSES, bias=True)\n",
    "    shadow_model = shadow_model.to(device)\n",
    "    optimizer = AdamW(shadow_model.parameters(), lr=0.001, weight_decay=0.00001)\n",
    "\n",
    "    run_name = f\"shadow_model_{shadow_number}_resnet18_cifar10\"\n",
    "\n",
    "    early_stop_acc1 = EarlyStopPatience(patience=10)\n",
    "    best_valid_acc = 0\n",
    "    best_valid_loss = 10\n",
    "\n",
    "    for epoch in range(EPOCHS):\n",
    "        shadow_model.train()\n",
    "        train_loss = 0\n",
    "        train_acc = 0\n",
    "        for i, (inputs, labels) in enumerate(shadow_loader):\n",
    "            inputs, labels = inputs.to(device), labels.to(device)\n",
    "            optimizer.zero_grad()\n",
    "            outputs = shadow_model(inputs)\n",
    "            loss = criterion(outputs, labels)\n",
    "            loss.backward()\n",
    "            optimizer.step()\n",
    "            train_loss += loss.item()\n",
    "            train_acc += (outputs.argmax(1) == labels).sum().item()\n",
    "\n",
    "        train_loss /= len(shadow_loader)\n",
    "        train_acc /= len(shadow_loader.dataset)\n",
    "\n",
    "        shadow_model.eval()\n",
    "        valid_loss = 0\n",
    "        valid_acc = 0\n",
    "        with torch.no_grad():\n",
    "            for i, (inputs, labels) in enumerate(evalloader):\n",
    "                inputs, labels = inputs.to(device), labels.to(device)\n",
    "                outputs = shadow_model(inputs)\n",
    "                loss = criterion(outputs, labels)\n",
    "                valid_loss += loss.item()\n",
    "                valid_acc += (outputs.argmax(1) == labels).sum().item()\n",
    "\n",
    "        valid_loss /= len(evalloader)\n",
    "        valid_acc /= len(evalloader.dataset)\n",
    "\n",
    "        print(f\"Epoch {epoch+1}/{EPOCHS}, Train Loss: {train_loss:.4f}, Train Acc: {train_acc:.4f}, Valid Loss: {valid_loss:.4f}, Valid Acc: {valid_acc:.4f}\")\n",
    "\n",
    "        if valid_acc > best_valid_acc:\n",
    "            best_valid_acc = valid_acc\n",
    "            torch.save(shadow_model.state_dict(), f\"{SAVE_PATH}/{run_name}.pth\")\n",
    "            print(f\"Saved model with valid acc: {valid_acc:.4f} -> {SAVE_PATH}/{run_name}.pth\")\n",
    "\n",
    "        if valid_loss < best_valid_loss:\n",
    "            best_valid_loss = valid_loss\n",
    "\n",
    "        if early_stop_acc1(valid_acc):\n",
    "            print(\"Early stopping\")\n",
    "            break\n",
    "    "
   ]
  },
  {
   "cell_type": "code",
   "execution_count": null,
   "metadata": {},
   "outputs": [],
   "source": []
  }
 ],
 "metadata": {
  "kernelspec": {
   "display_name": ".venv",
   "language": "python",
   "name": "python3"
  },
  "language_info": {
   "codemirror_mode": {
    "name": "ipython",
    "version": 3
   },
   "file_extension": ".py",
   "mimetype": "text/x-python",
   "name": "python",
   "nbconvert_exporter": "python",
   "pygments_lexer": "ipython3",
   "version": "3.12.3"
  }
 },
 "nbformat": 4,
 "nbformat_minor": 2
}
